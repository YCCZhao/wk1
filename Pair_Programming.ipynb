{
 "cells": [
  {
   "cell_type": "markdown",
   "metadata": {},
   "source": [
    "## Day 1 Pair Programming"
   ]
  },
  {
   "cell_type": "code",
   "execution_count": 2,
   "metadata": {
    "collapsed": true
   },
   "outputs": [],
   "source": [
    "#first_pass\n",
    "def fizz_buzz ( ):\n",
    "    \"\"\"\n",
    "    Write a program that prints the numbers from 1 to 100. But for multiples of three print \n",
    "    “Fizz” instead of the number and for the multiples of five print “Buzz”. For numbers which \n",
    "    are multiples of both three and five print “FizzBuzz”.\n",
    "    \"\"\"\n",
    "    \n",
    "    for idx in range (1,101):\n",
    "        \n",
    "        div_3 = idx % 3 == 0\n",
    "        div_5 = idx % 5 == 0\n",
    "        \n",
    "        if div_3 and div_5:\n",
    "            print (\"FizzBuzz\")\n",
    "            \n",
    "        elif div_3:\n",
    "            print(\"Fizz\")\n",
    "            \n",
    "        elif div_5:\n",
    "            print(\"Buzz\")\n",
    "            \n",
    "        else:\n",
    "            print(idx)"
   ]
  },
  {
   "cell_type": "markdown",
   "metadata": {},
   "source": [
    "## Day 2 Pair Programming"
   ]
  },
  {
   "cell_type": "code",
   "execution_count": 3,
   "metadata": {
    "collapsed": true
   },
   "outputs": [],
   "source": [
    "#Problem 1 - without loop\n",
    "def reverseString(input):\n",
    "    return input[::-1]\n",
    "\n",
    "#Problem 1 - with while loop\n",
    "def reverseString(input):\n",
    "    result = ''\n",
    "    i = len(input)\n",
    "    while i > 0:\n",
    "        result += input[i-1]\n",
    "        i -= 1\n",
    "    return result\n",
    "\n",
    "#Problem 2\n",
    "def CanYouSpell(letters,name):\n",
    "    for char in name:\n",
    "        if char not in letters:\n",
    "            print(\"NO\")\n",
    "            return\n",
    "        else:\n",
    "            letters.remove(char)\n",
    "    print(\"YES\")"
   ]
  },
  {
   "cell_type": "markdown",
   "metadata": {},
   "source": [
    "## Day 3 Pair Programming"
   ]
  },
  {
   "cell_type": "code",
   "execution_count": 19,
   "metadata": {},
   "outputs": [
    {
     "name": "stdout",
     "output_type": "stream",
     "text": [
      "13\n",
      "I got it right in 5 tries.\n",
      "76\n",
      "I got it right in 1 tries.\n",
      "0\n",
      "I got it right in 6 tries.\n",
      "100\n",
      "I got it right in 5 tries.\n"
     ]
    }
   ],
   "source": [
    "#Problem 1\n",
    "def guess(num):\n",
    "    guess_counts = 0\n",
    "    guess_num = 50\n",
    "    lb = 0\n",
    "    ub = 100\n",
    "    \n",
    "    if guess_num == num:\n",
    "        return \"I got it right in 1 try.\"\n",
    "    \n",
    "    while guess_num != num:\n",
    "        guess_counts += 1\n",
    "        \n",
    "        if guess_num < num:\n",
    "            lb = guess_num\n",
    "            guess_num = lb + int((ub-lb)/2) + 1\n",
    "            \n",
    "        else:\n",
    "            ub = guess_num\n",
    "            guess_num = lb + int((ub-lb)/2)\n",
    "    print(guess_num)        \n",
    "    return \"I got it right in \" + str(guess_counts) + \" tries.\"\n",
    "\n",
    "print(guess(13))\n",
    "print(guess(76))\n",
    "print(guess(0))\n",
    "print(guess(100))\n"
   ]
  },
  {
   "cell_type": "code",
   "execution_count": 53,
   "metadata": {
    "collapsed": true
   },
   "outputs": [],
   "source": [
    "def max_13_adjacent_digits_product(long_str):\n",
    "    long_str = [int(x) for x in long_str]\n",
    "    \n",
    "    max_product = 0\n",
    "    \n",
    "    for i in range(len(long_str)-12):\n",
    "        if 0 in long_str[i:i+13]:\n",
    "            continue\n",
    "        \n",
    "        else:\n",
    "            product = 1\n",
    "            for j in range(13):\n",
    "                product *= long_str[i+j]\n",
    "\n",
    "            if product > max_product:\n",
    "                max_product = product\n",
    "            \n",
    "    return max_product"
   ]
  },
  {
   "cell_type": "markdown",
   "metadata": {
    "collapsed": true
   },
   "source": [
    "## Day 4 What is the largest prime factor of the number 600851475143 ?"
   ]
  },
  {
   "cell_type": "code",
   "execution_count": 5,
   "metadata": {},
   "outputs": [
    {
     "name": "stdout",
     "output_type": "stream",
     "text": [
      "True\n"
     ]
    }
   ],
   "source": [
    "def IsPrime(num):\n",
    "    if num <= 3:\n",
    "        return True\n",
    "    elif num%2 == 0:\n",
    "        return False\n",
    "    else:\n",
    "        for i in range(3, num//2, 2):\n",
    "            if num%i == 0:\n",
    "                return False\n",
    "        return True      "
   ]
  },
  {
   "cell_type": "code",
   "execution_count": 14,
   "metadata": {},
   "outputs": [
    {
     "name": "stdout",
     "output_type": "stream",
     "text": [
      "6857\n"
     ]
    }
   ],
   "source": [
    "def largest_prime_factor(num):\n",
    "    for i in range(1, num):\n",
    "        if num%i ==0 and IsPrime(num//i):\n",
    "            return int(num/i)\n",
    "print(largest_prime_factor(600851475143))       "
   ]
  },
  {
   "cell_type": "code",
   "execution_count": 18,
   "metadata": {},
   "outputs": [
    {
     "name": "stdout",
     "output_type": "stream",
     "text": [
      "29\n"
     ]
    }
   ],
   "source": [
    "def largest_prime_factor2(num):\n",
    "    max_prime_factor = 1\n",
    "    for i in range(1, int(num**0.5)+1):\n",
    "        if num%i ==0:\n",
    "            if IsPrime(i):\n",
    "                max_prime_factor = i\n",
    "            if IsPrime(num//i):\n",
    "                return int(num/i)\n",
    "    return max_prime_factor\n",
    "print(largest_prime_factor(13195)) "
   ]
  },
  {
   "cell_type": "code",
   "execution_count": 21,
   "metadata": {},
   "outputs": [
    {
     "data": {
      "text/plain": [
       "3"
      ]
     },
     "execution_count": 21,
     "metadata": {},
     "output_type": "execute_result"
    }
   ],
   "source": [
    "17//5"
   ]
  },
  {
   "cell_type": "code",
   "execution_count": null,
   "metadata": {
    "collapsed": true
   },
   "outputs": [],
   "source": []
  }
 ],
 "metadata": {
  "kernelspec": {
   "display_name": "Python 3",
   "language": "python",
   "name": "python3"
  },
  "language_info": {
   "codemirror_mode": {
    "name": "ipython",
    "version": 3
   },
   "file_extension": ".py",
   "mimetype": "text/x-python",
   "name": "python",
   "nbconvert_exporter": "python",
   "pygments_lexer": "ipython3",
   "version": "3.6.3"
  }
 },
 "nbformat": 4,
 "nbformat_minor": 2
}
