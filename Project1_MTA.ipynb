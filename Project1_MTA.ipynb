{
 "cells": [
  {
   "cell_type": "code",
   "execution_count": 24,
   "metadata": {
    "collapsed": true
   },
   "outputs": [],
   "source": [
    "import numpy as np\n",
    "import pandas as pd\n",
    "import matplotlib.pyplot as plt\n",
    "\n",
    "%matplotlib inline"
   ]
  },
  {
   "cell_type": "code",
   "execution_count": 3,
   "metadata": {
    "collapsed": true
   },
   "outputs": [],
   "source": [
    "mta_df = pd.read_csv(\"./Turnstile_Usage_Data__2017.csv\")"
   ]
  },
  {
   "cell_type": "code",
   "execution_count": 4,
   "metadata": {},
   "outputs": [],
   "source": [
    "mta_df = mta_df.sort_values(['C/A', 'Unit', 'SCP'])"
   ]
  },
  {
   "cell_type": "code",
   "execution_count": 5,
   "metadata": {
    "collapsed": true
   },
   "outputs": [],
   "source": [
    "mta_df['datatime'] = pd.to_datetime(mta_df['Date'] + mta_df['Time'], \n",
    "                                  format='%m/%d/%Y%H:%M:%S')"
   ]
  },
  {
   "cell_type": "code",
   "execution_count": 6,
   "metadata": {},
   "outputs": [],
   "source": [
    "mta_df['Entries_shifted'] = mta_df['Entries'].shift(1)\n",
    "mta_df['C/A_shifted'] = mta_df['C/A'].shift(1)\n",
    "mta_df['Unit_shifted'] = mta_df['Unit'].shift(1)\n",
    "mta_df['SCP_shifted'] = mta_df['SCP'].shift(1)\n",
    "mta_df['Station_shifted'] = mta_df['Station'].shift(1)"
   ]
  },
  {
   "cell_type": "code",
   "execution_count": 22,
   "metadata": {
    "collapsed": true
   },
   "outputs": [],
   "source": [
    "cond = (mta_df['C/A_shifted'] == mta_df['C/A'])\\\n",
    "        &(mta_df['Unit_shifted'] == mta_df['Unit'])\\\n",
    "        &(mta_df['SCP_shifted'] == mta_df['SCP'])\\\n",
    "        &(mta_df['Station_shifted'] == mta_df['Station'])\n"
   ]
  },
  {
   "cell_type": "code",
   "execution_count": 25,
   "metadata": {},
   "outputs": [],
   "source": [
    "mta_df['Entries_4_hours'] = mta_df['Entries'] - mta_df['Entries_shifted'] \n",
    "mta_df['Entries_4_hours_cleaned'] = np.where(cond, mta_df['Entries_4_hours'], 0)"
   ]
  },
  {
   "cell_type": "code",
   "execution_count": 57,
   "metadata": {},
   "outputs": [],
   "source": [
    "mta_df = mta_df[mta_df['Entries_4_hours_cleaned'] > 0]\n"
   ]
  },
  {
   "cell_type": "code",
   "execution_count": 60,
   "metadata": {},
   "outputs": [
    {
     "data": {
      "text/plain": [
       "count    7.480435e+06\n",
       "mean     6.508126e+03\n",
       "std      2.698171e+06\n",
       "min      1.000000e+00\n",
       "25%      3.100000e+01\n",
       "50%      1.150000e+02\n",
       "75%      2.890000e+02\n",
       "max      2.122193e+09\n",
       "Name: Entries_4_hours_cleaned, dtype: float64"
      ]
     },
     "execution_count": 60,
     "metadata": {},
     "output_type": "execute_result"
    }
   ],
   "source": [
    "mta_df['Entries_4_hours_cleaned'].describe()"
   ]
  },
  {
   "cell_type": "code",
   "execution_count": null,
   "metadata": {
    "collapsed": true
   },
   "outputs": [],
   "source": []
  }
 ],
 "metadata": {
  "kernelspec": {
   "display_name": "Python 3",
   "language": "python",
   "name": "python3"
  },
  "language_info": {
   "codemirror_mode": {
    "name": "ipython",
    "version": 3
   },
   "file_extension": ".py",
   "mimetype": "text/x-python",
   "name": "python",
   "nbconvert_exporter": "python",
   "pygments_lexer": "ipython3",
   "version": "3.6.1"
  }
 },
 "nbformat": 4,
 "nbformat_minor": 2
}
