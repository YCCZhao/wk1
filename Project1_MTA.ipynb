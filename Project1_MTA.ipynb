{
 "cells": [
  {
   "cell_type": "markdown",
   "metadata": {},
   "source": [
    "## Import Libraries"
   ]
  },
  {
   "cell_type": "code",
   "execution_count": 1,
   "metadata": {
    "collapsed": true
   },
   "outputs": [],
   "source": [
    "import numpy as np\n",
    "import pandas as pd\n",
    "import matplotlib.pyplot as plt\n",
    "\n",
    "%matplotlib inline"
   ]
  },
  {
   "cell_type": "markdown",
   "metadata": {},
   "source": [
    "## Import Data"
   ]
  },
  {
   "cell_type": "code",
   "execution_count": 2,
   "metadata": {
    "collapsed": true
   },
   "outputs": [],
   "source": [
    "mta_df = pd.read_csv(\"./Turnstile_Usage_Data__2017.csv\")"
   ]
  },
  {
   "cell_type": "markdown",
   "metadata": {},
   "source": [
    "## Convert to Datetime Object"
   ]
  },
  {
   "cell_type": "code",
   "execution_count": 3,
   "metadata": {
    "collapsed": true
   },
   "outputs": [],
   "source": [
    "mta_df['datetime'] = pd.to_datetime(mta_df['Date'] + mta_df['Time'], \n",
    "                                  format='%m/%d/%Y%H:%M:%S')"
   ]
  },
  {
   "cell_type": "markdown",
   "metadata": {},
   "source": [
    "## Select timeframe (if applicable)"
   ]
  },
  {
   "cell_type": "code",
   "execution_count": 4,
   "metadata": {},
   "outputs": [],
   "source": [
    "start_date = '20170101'\n",
    "end_date = '20170331'\n",
    "mta_df = mta_df[(mta_df['datetime'] > start_date) & (mta_df['datetime'] < end_date) ]"
   ]
  },
  {
   "cell_type": "markdown",
   "metadata": {},
   "source": [
    "## Add a column of day_of_week and a column of holiday"
   ]
  },
  {
   "cell_type": "code",
   "execution_count": 6,
   "metadata": {},
   "outputs": [],
   "source": [
    "from pandas.tseries.holiday import USFederalHolidayCalendar as calendar\n",
    "\n",
    "mta_df['day'] = mta_df['datetime'].dt.dayofweek\n",
    "\n",
    "cal = calendar()\n",
    "holidays = cal.holidays(start=mta_df.Date.min(), end=mta_df.Date.max())\n",
    "\n",
    "mta_df['Holiday'] = mta_df['Date'].isin(holidays)"
   ]
  },
  {
   "cell_type": "markdown",
   "metadata": {},
   "source": [
    "## Calculate Entries in Each Time Interval"
   ]
  },
  {
   "cell_type": "code",
   "execution_count": 7,
   "metadata": {
    "collapsed": true
   },
   "outputs": [],
   "source": [
    "# sort records by C/A, Unit, SCP, and Station for calculation\n",
    "mta_df = mta_df.sort_values(['C/A', 'Unit', 'SCP', 'Station'])\n",
    "\n",
    "# create columns of C/A, Unit, SCP, and Station with one row shift down\n",
    "mta_df['Entries_shifted'] = mta_df['Entries'].shift(1)\n",
    "mta_df['C/A_shifted'] = mta_df['C/A'].shift(1)\n",
    "mta_df['Unit_shifted'] = mta_df['Unit'].shift(1)\n",
    "mta_df['SCP_shifted'] = mta_df['SCP'].shift(1)\n",
    "mta_df['Station_shifted'] = mta_df['Station'].shift(1)\n",
    "\n",
    "# only calcuate the entries difference if C/A, Unit, SCP, and Station are same\n",
    "cond = (mta_df['C/A_shifted'] == mta_df['C/A'])\\\n",
    "        &(mta_df['Unit_shifted'] == mta_df['Unit'])\\\n",
    "        &(mta_df['SCP_shifted'] == mta_df['SCP'])\\\n",
    "        &(mta_df['Station_shifted'] == mta_df['Station'])\n",
    "\n",
    "mta_df['Entries_4_hours'] = mta_df['Entries'] - mta_df['Entries_shifted'] \n",
    "mta_df['Entries_4_hours_cleaned'] = np.where(cond, mta_df['Entries_4_hours'], 0)"
   ]
  },
  {
   "cell_type": "code",
   "execution_count": 8,
   "metadata": {},
   "outputs": [],
   "source": [
    "# drop shifted columns\n",
    "\n",
    "mta_df = mta_df.drop(['C/A_shifted', 'Unit_shifted', 'SCP_shifted', 'Station_shifted', 'Entries_shifted'], axis=1)"
   ]
  },
  {
   "cell_type": "markdown",
   "metadata": {},
   "source": [
    "### There are still rows with negative entries number, need to decide what to do with them"
   ]
  },
  {
   "cell_type": "code",
   "execution_count": 9,
   "metadata": {
    "collapsed": true
   },
   "outputs": [],
   "source": [
    "# drop record with negative entries every 4 hours\n",
    "mta_df = mta_df[mta_df['Entries_4_hours_cleaned'] > 0]"
   ]
  },
  {
   "cell_type": "markdown",
   "metadata": {},
   "source": [
    "## Total number of turnstile"
   ]
  },
  {
   "cell_type": "code",
   "execution_count": 18,
   "metadata": {},
   "outputs": [
    {
     "data": {
      "text/plain": [
       "4461"
      ]
     },
     "execution_count": 18,
     "metadata": {},
     "output_type": "execute_result"
    }
   ],
   "source": [
    "mta_df.groupby(['C/A','Unit', 'SCP', 'Station'])['Entries_4_hours_cleaned'].sum().count()"
   ]
  },
  {
   "cell_type": "markdown",
   "metadata": {},
   "source": [
    "## total number of station"
   ]
  },
  {
   "cell_type": "code",
   "execution_count": 19,
   "metadata": {},
   "outputs": [
    {
     "data": {
      "text/plain": [
       "376"
      ]
     },
     "execution_count": 19,
     "metadata": {},
     "output_type": "execute_result"
    }
   ],
   "source": [
    "mta_df.groupby(['Station'])['Entries_4_hours_cleaned'].sum().count()"
   ]
  },
  {
   "cell_type": "markdown",
   "metadata": {},
   "source": [
    "## Statistic Summary of Cleaned Entries Every 4 Hours"
   ]
  },
  {
   "cell_type": "code",
   "execution_count": 10,
   "metadata": {},
   "outputs": [
    {
     "data": {
      "text/plain": [
       "count    1.762237e+06\n",
       "mean     5.839255e+03\n",
       "std      2.405970e+06\n",
       "min      1.000000e+00\n",
       "25%      3.000000e+01\n",
       "50%      1.090000e+02\n",
       "75%      2.820000e+02\n",
       "max      2.122193e+09\n",
       "Name: Entries_4_hours_cleaned, dtype: float64"
      ]
     },
     "execution_count": 10,
     "metadata": {},
     "output_type": "execute_result"
    }
   ],
   "source": [
    "# explore entries distribution\n",
    "mta_df['Entries_4_hours_cleaned'].describe()"
   ]
  },
  {
   "cell_type": "markdown",
   "metadata": {},
   "source": [
    "## distribution of entries in every 4 hours at a turnstile"
   ]
  },
  {
   "cell_type": "code",
   "execution_count": 11,
   "metadata": {},
   "outputs": [
    {
     "data": {
      "text/plain": [
       "<matplotlib.axes._subplots.AxesSubplot at 0x1164c2828>"
      ]
     },
     "execution_count": 11,
     "metadata": {},
     "output_type": "execute_result"
    },
    {
     "data": {
      "image/png": "[encoded data removed]",
      "text/plain": [
       "<matplotlib.figure.Figure at 0x137425f60>"
      ]
     },
     "metadata": {},
     "output_type": "display_data"
    }
   ],
   "source": [
    "mta_df['Entries_4_hours_cleaned'].hist(range=[0, 1e3])"
   ]
  },
  {
   "cell_type": "markdown",
   "metadata": {},
   "source": [
    "## distribution of daily entries at a turnstile"
   ]
  },
  {
   "cell_type": "code",
   "execution_count": 12,
   "metadata": {
    "scrolled": true
   },
   "outputs": [
    {
     "data": {
      "text/plain": [
       "<matplotlib.axes._subplots.AxesSubplot at 0x125821b00>"
      ]
     },
     "execution_count": 12,
     "metadata": {},
     "output_type": "execute_result"
    },
    {
     "data": {
      "image/png": "[encoded data removed]",
      "text/plain": [
       "<matplotlib.figure.Figure at 0x11f008588>"
      ]
     },
     "metadata": {},
     "output_type": "display_data"
    }
   ],
   "source": [
    "#mta_df.groupby(['C/A','Unit', 'SCP', 'Station', 'Date'])['Entries_4_hours_cleaned'].sum()\n",
    "mta_df.groupby(['C/A','Unit', 'SCP', 'Station','Date'])['Entries_4_hours_cleaned'].sum().hist(range=[0, 1e4])"
   ]
  },
  {
   "cell_type": "markdown",
   "metadata": {},
   "source": [
    "## distribution of daily entries at a station"
   ]
  },
  {
   "cell_type": "code",
   "execution_count": 13,
   "metadata": {},
   "outputs": [
    {
     "data": {
      "text/plain": [
       "<matplotlib.axes._subplots.AxesSubplot at 0x11f008f28>"
      ]
     },
     "execution_count": 13,
     "metadata": {},
     "output_type": "execute_result"
    },
    {
     "data": {
      "image/png": "[encoded data removed]",
      "text/plain": [
       "<matplotlib.figure.Figure at 0x12356ba58>"
      ]
     },
     "metadata": {},
     "output_type": "display_data"
    }
   ],
   "source": [
    "mta_df.groupby(['Station','Date'])['Entries_4_hours_cleaned'].sum().hist(range=[0, 1e5])"
   ]
  },
  {
   "cell_type": "markdown",
   "metadata": {},
   "source": [
    "## distribution of sum of entries on a day of the week at a station"
   ]
  },
  {
   "cell_type": "code",
   "execution_count": 15,
   "metadata": {},
   "outputs": [
    {
     "data": {
      "text/plain": [
       "<matplotlib.axes._subplots.AxesSubplot at 0x133430470>"
      ]
     },
     "execution_count": 15,
     "metadata": {},
     "output_type": "execute_result"
    },
    {
     "data": {
      "image/png": "[encoded data removed]",
      "text/plain": [
       "<matplotlib.figure.Figure at 0x12035d470>"
      ]
     },
     "metadata": {},
     "output_type": "display_data"
    }
   ],
   "source": [
    "#mta_df.groupby(['Station', 'day'], as_index=False)['Entries_4_hours_cleaned'].sum()\n",
    "mta_df.groupby(['Station', 'day'])['Entries_4_hours_cleaned'].sum().hist(range=[0,1e6])"
   ]
  }
 ],
 "metadata": {
  "kernelspec": {
   "display_name": "Python 3",
   "language": "python",
   "name": "python3"
  },
  "language_info": {
   "codemirror_mode": {
    "name": "ipython",
    "version": 3
   },
   "file_extension": ".py",
   "mimetype": "text/x-python",
   "name": "python",
   "nbconvert_exporter": "python",
   "pygments_lexer": "ipython3",
   "version": "3.6.3"
  }
 },
 "nbformat": 4,
 "nbformat_minor": 2
}
