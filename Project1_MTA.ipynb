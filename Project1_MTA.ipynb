{
 "cells": [
  {
   "cell_type": "markdown",
   "metadata": {},
   "source": [
    "## Import Libraries"
   ]
  },
  {
   "cell_type": "code",
   "execution_count": 1,
   "metadata": {
    "collapsed": true
   },
   "outputs": [],
   "source": [
    "import numpy as np\n",
    "import pandas as pd\n",
    "import matplotlib.pyplot as plt\n",
    "\n",
    "%matplotlib inline"
   ]
  },
  {
   "cell_type": "markdown",
   "metadata": {},
   "source": [
    "## Import Data"
   ]
  },
  {
   "cell_type": "code",
   "execution_count": 75,
   "metadata": {
    "collapsed": true
   },
   "outputs": [],
   "source": [
    "mta_df = pd.read_csv(\"./Turnstile_Usage_Data__2017.csv\")"
   ]
  },
  {
   "cell_type": "markdown",
   "metadata": {},
   "source": [
    "## Convert to Datetime Object"
   ]
  },
  {
   "cell_type": "code",
   "execution_count": 93,
   "metadata": {
    "collapsed": true
   },
   "outputs": [],
   "source": [
    "mta_df['Datetime'] = pd.to_datetime(mta_df['Date'] + mta_df['Time'], \n",
    "                                  format='%m/%d/%Y%H:%M:%S')"
   ]
  },
  {
   "cell_type": "markdown",
   "metadata": {},
   "source": [
    "## Select timeframe (if applicable)"
   ]
  },
  {
   "cell_type": "code",
   "execution_count": 77,
   "metadata": {},
   "outputs": [],
   "source": [
    "start_date = '20170114'\n",
    "end_date = '20170221'\n",
    "mta_df = mta_df[(mta_df['Datetime'] > start_date) & (mta_df['Datetime'] < end_date) ]"
   ]
  },
  {
   "cell_type": "code",
   "execution_count": null,
   "metadata": {},
   "outputs": [],
   "source": [
    "#mta_df[(mta_df['Station'] == top20_station[0]) & (mta_df['Date'] == '01/22/2017')]"
   ]
  },
  {
   "cell_type": "markdown",
   "metadata": {},
   "source": [
    "## Add a column of day_of_week and a column of holiday"
   ]
  },
  {
   "cell_type": "code",
   "execution_count": 78,
   "metadata": {},
   "outputs": [],
   "source": [
    "from pandas.tseries.holiday import USFederalHolidayCalendar as calendar\n",
    "\n",
    "mta_df['Day'] = mta_df['Datetime'].dt.dayofweek\n",
    "\n",
    "cal = calendar()\n",
    "holidays = cal.holidays(start=mta_df.Date.min(), end=mta_df.Date.max())\n",
    "\n",
    "mta_df['Holiday'] = mta_df['Date'].isin(holidays)"
   ]
  },
  {
   "cell_type": "markdown",
   "metadata": {},
   "source": [
    "## Calculate Entries in Each Time Interval"
   ]
  },
  {
   "cell_type": "code",
   "execution_count": 79,
   "metadata": {
    "collapsed": true
   },
   "outputs": [],
   "source": [
    "# sort records by C/A, Unit, SCP, and Station for calculation\n",
    "mta_df = mta_df.sort_values(['C/A', 'Unit', 'SCP', 'Station','Datetime'])\n",
    "\n",
    "# create columns of C/A, Unit, SCP, and Station with one row shift down\n",
    "mta_df['Entries_shifted'] = mta_df['Entries'].shift(1)\n",
    "mta_df['C/A_shifted'] = mta_df['C/A'].shift(1)\n",
    "mta_df['Unit_shifted'] = mta_df['Unit'].shift(1)\n",
    "mta_df['SCP_shifted'] = mta_df['SCP'].shift(1)\n",
    "mta_df['Station_shifted'] = mta_df['Station'].shift(1)\n",
    "mta_df['Previous_Datetime'] = mta_df['Datetime'].shift(1)\n",
    "\n",
    "# only calcuate the entries difference if C/A, Unit, SCP, and Station are same\n",
    "cond = (mta_df['C/A_shifted'] == mta_df['C/A'])\\\n",
    "        &(mta_df['Unit_shifted'] == mta_df['Unit'])\\\n",
    "        &(mta_df['SCP_shifted'] == mta_df['SCP'])\\\n",
    "        &(mta_df['Station_shifted'] == mta_df['Station'])\n",
    "\n",
    "mta_df['Entries_4_hours'] = mta_df['Entries'] - mta_df['Entries_shifted'] \n",
    "mta_df['Entries_4_hours_cleaned'] = np.where(cond, mta_df['Entries_4_hours'], 0)"
   ]
  },
  {
   "cell_type": "code",
   "execution_count": 59,
   "metadata": {
    "collapsed": true
   },
   "outputs": [],
   "source": [
    "mta_df_top20 = mta_df[(mta_df['Station'] == top20_station[0])]"
   ]
  },
  {
   "cell_type": "code",
   "execution_count": 74,
   "metadata": {},
   "outputs": [
    {
     "data": {
      "text/html": [
       "<div>\n",
       "<style>\n",
       "    .dataframe thead tr:only-child th {\n",
       "        text-align: right;\n",
       "    }\n",
       "\n",
       "    .dataframe thead th {\n",
       "        text-align: left;\n",
       "    }\n",
       "\n",
       "    .dataframe tbody tr th {\n",
       "        vertical-align: top;\n",
       "    }\n",
       "</style>\n",
       "<table border=\"1\" class=\"dataframe\">\n",
       "  <thead>\n",
       "    <tr style=\"text-align: right;\">\n",
       "      <th></th>\n",
       "      <th>C/A</th>\n",
       "      <th>Unit</th>\n",
       "      <th>SCP</th>\n",
       "      <th>Station</th>\n",
       "      <th>Line Name</th>\n",
       "      <th>Division</th>\n",
       "      <th>Date</th>\n",
       "      <th>Time</th>\n",
       "      <th>Description</th>\n",
       "      <th>Entries</th>\n",
       "      <th>Exits</th>\n",
       "      <th>Datetime</th>\n",
       "      <th>Day</th>\n",
       "      <th>Holiday</th>\n",
       "      <th>Previous_Datetime</th>\n",
       "      <th>Entries_4_hours</th>\n",
       "      <th>Entries_4_hours_cleaned</th>\n",
       "    </tr>\n",
       "  </thead>\n",
       "  <tbody>\n",
       "    <tr>\n",
       "      <th>389002</th>\n",
       "      <td>A002</td>\n",
       "      <td>R051</td>\n",
       "      <td>02-00-00</td>\n",
       "      <td>59 ST</td>\n",
       "      <td>NQR456W</td>\n",
       "      <td>BMT</td>\n",
       "      <td>01/14/2017</td>\n",
       "      <td>07:00:00</td>\n",
       "      <td>REGULAR</td>\n",
       "      <td>6009253</td>\n",
       "      <td>2035115</td>\n",
       "      <td>2017-01-14 07:00:00</td>\n",
       "      <td>5</td>\n",
       "      <td>False</td>\n",
       "      <td>2017-01-14 03:00:00</td>\n",
       "      <td>12.0</td>\n",
       "      <td>12.0</td>\n",
       "    </tr>\n",
       "    <tr>\n",
       "      <th>389003</th>\n",
       "      <td>A002</td>\n",
       "      <td>R051</td>\n",
       "      <td>02-00-00</td>\n",
       "      <td>59 ST</td>\n",
       "      <td>NQR456W</td>\n",
       "      <td>BMT</td>\n",
       "      <td>01/14/2017</td>\n",
       "      <td>11:00:00</td>\n",
       "      <td>REGULAR</td>\n",
       "      <td>6009313</td>\n",
       "      <td>2035217</td>\n",
       "      <td>2017-01-14 11:00:00</td>\n",
       "      <td>5</td>\n",
       "      <td>False</td>\n",
       "      <td>2017-01-14 07:00:00</td>\n",
       "      <td>60.0</td>\n",
       "      <td>60.0</td>\n",
       "    </tr>\n",
       "    <tr>\n",
       "      <th>389004</th>\n",
       "      <td>A002</td>\n",
       "      <td>R051</td>\n",
       "      <td>02-00-00</td>\n",
       "      <td>59 ST</td>\n",
       "      <td>NQR456W</td>\n",
       "      <td>BMT</td>\n",
       "      <td>01/14/2017</td>\n",
       "      <td>15:00:00</td>\n",
       "      <td>REGULAR</td>\n",
       "      <td>6009492</td>\n",
       "      <td>2035273</td>\n",
       "      <td>2017-01-14 15:00:00</td>\n",
       "      <td>5</td>\n",
       "      <td>False</td>\n",
       "      <td>2017-01-14 11:00:00</td>\n",
       "      <td>179.0</td>\n",
       "      <td>179.0</td>\n",
       "    </tr>\n",
       "    <tr>\n",
       "      <th>389005</th>\n",
       "      <td>A002</td>\n",
       "      <td>R051</td>\n",
       "      <td>02-00-00</td>\n",
       "      <td>59 ST</td>\n",
       "      <td>NQR456W</td>\n",
       "      <td>BMT</td>\n",
       "      <td>01/14/2017</td>\n",
       "      <td>19:00:00</td>\n",
       "      <td>REGULAR</td>\n",
       "      <td>6009814</td>\n",
       "      <td>2035351</td>\n",
       "      <td>2017-01-14 19:00:00</td>\n",
       "      <td>5</td>\n",
       "      <td>False</td>\n",
       "      <td>2017-01-14 15:00:00</td>\n",
       "      <td>322.0</td>\n",
       "      <td>322.0</td>\n",
       "    </tr>\n",
       "    <tr>\n",
       "      <th>389006</th>\n",
       "      <td>A002</td>\n",
       "      <td>R051</td>\n",
       "      <td>02-00-00</td>\n",
       "      <td>59 ST</td>\n",
       "      <td>NQR456W</td>\n",
       "      <td>BMT</td>\n",
       "      <td>01/14/2017</td>\n",
       "      <td>23:00:00</td>\n",
       "      <td>REGULAR</td>\n",
       "      <td>6009995</td>\n",
       "      <td>2035371</td>\n",
       "      <td>2017-01-14 23:00:00</td>\n",
       "      <td>5</td>\n",
       "      <td>False</td>\n",
       "      <td>2017-01-14 19:00:00</td>\n",
       "      <td>181.0</td>\n",
       "      <td>181.0</td>\n",
       "    </tr>\n",
       "  </tbody>\n",
       "</table>\n",
       "</div>"
      ],
      "text/plain": [
       "         C/A  Unit       SCP Station Line Name Division        Date      Time  \\\n",
       "389002  A002  R051  02-00-00   59 ST   NQR456W      BMT  01/14/2017  07:00:00   \n",
       "389003  A002  R051  02-00-00   59 ST   NQR456W      BMT  01/14/2017  11:00:00   \n",
       "389004  A002  R051  02-00-00   59 ST   NQR456W      BMT  01/14/2017  15:00:00   \n",
       "389005  A002  R051  02-00-00   59 ST   NQR456W      BMT  01/14/2017  19:00:00   \n",
       "389006  A002  R051  02-00-00   59 ST   NQR456W      BMT  01/14/2017  23:00:00   \n",
       "\n",
       "       Description  Entries  \\\n",
       "389002     REGULAR  6009253   \n",
       "389003     REGULAR  6009313   \n",
       "389004     REGULAR  6009492   \n",
       "389005     REGULAR  6009814   \n",
       "389006     REGULAR  6009995   \n",
       "\n",
       "        Exits                                                       \\\n",
       "389002                                            2035115            \n",
       "389003                                            2035217            \n",
       "389004                                            2035273            \n",
       "389005                                            2035351            \n",
       "389006                                            2035371            \n",
       "\n",
       "                  Datetime  Day  Holiday   Previous_Datetime  Entries_4_hours  \\\n",
       "389002 2017-01-14 07:00:00    5    False 2017-01-14 03:00:00             12.0   \n",
       "389003 2017-01-14 11:00:00    5    False 2017-01-14 07:00:00             60.0   \n",
       "389004 2017-01-14 15:00:00    5    False 2017-01-14 11:00:00            179.0   \n",
       "389005 2017-01-14 19:00:00    5    False 2017-01-14 15:00:00            322.0   \n",
       "389006 2017-01-14 23:00:00    5    False 2017-01-14 19:00:00            181.0   \n",
       "\n",
       "        Entries_4_hours_cleaned  \n",
       "389002                     12.0  \n",
       "389003                     60.0  \n",
       "389004                    179.0  \n",
       "389005                    322.0  \n",
       "389006                    181.0  "
      ]
     },
     "execution_count": 74,
     "metadata": {},
     "output_type": "execute_result"
    }
   ],
   "source": [
    "#mta_df_top20[mta_df_top20['Description'] == 'REGULAR']['Time'].unique()\n",
    "#mta_df_top20[(mta_df_top20['Description'] == 'REGULAR') & (mta_df_top20['Time'] == '20:53:38')]\n",
    "mta_df.head()"
   ]
  },
  {
   "cell_type": "code",
   "execution_count": 80,
   "metadata": {
    "collapsed": true
   },
   "outputs": [],
   "source": [
    "# drop shifted columns\n",
    "\n",
    "mta_df = mta_df.drop(['C/A_shifted', 'Unit_shifted', 'SCP_shifted', 'Station_shifted', 'Entries_shifted'], axis=1)"
   ]
  },
  {
   "cell_type": "markdown",
   "metadata": {},
   "source": [
    "### There are still rows with negative entries number, need to decide what to do with them"
   ]
  },
  {
   "cell_type": "code",
   "execution_count": 83,
   "metadata": {
    "collapsed": true
   },
   "outputs": [],
   "source": [
    "# drop record with negative entries every 4 hours\n",
    "mta_df = mta_df[mta_df['Entries_4_hours_cleaned'] > 0]"
   ]
  },
  {
   "cell_type": "markdown",
   "metadata": {},
   "source": [
    "## Total number of turnstile"
   ]
  },
  {
   "cell_type": "code",
   "execution_count": 84,
   "metadata": {},
   "outputs": [
    {
     "data": {
      "text/plain": [
       "4364"
      ]
     },
     "execution_count": 84,
     "metadata": {},
     "output_type": "execute_result"
    }
   ],
   "source": [
    "mta_df.groupby(['C/A','Unit', 'SCP', 'Station'])['Entries_4_hours_cleaned'].sum().count()"
   ]
  },
  {
   "cell_type": "markdown",
   "metadata": {},
   "source": [
    "## total number of station"
   ]
  },
  {
   "cell_type": "code",
   "execution_count": 85,
   "metadata": {},
   "outputs": [
    {
     "data": {
      "text/plain": [
       "374"
      ]
     },
     "execution_count": 85,
     "metadata": {},
     "output_type": "execute_result"
    }
   ],
   "source": [
    "mta_df.groupby(['Station'])['Entries_4_hours_cleaned'].sum().count()"
   ]
  },
  {
   "cell_type": "markdown",
   "metadata": {},
   "source": [
    "## Statistic Summary of Cleaned Entries Every 4 Hours"
   ]
  },
  {
   "cell_type": "code",
   "execution_count": 86,
   "metadata": {},
   "outputs": [
    {
     "data": {
      "text/plain": [
       "count    7.222170e+05\n",
       "mean     9.766397e+03\n",
       "std      3.519341e+06\n",
       "min      1.000000e+00\n",
       "25%      3.000000e+01\n",
       "50%      1.080000e+02\n",
       "75%      2.760000e+02\n",
       "max      2.122193e+09\n",
       "Name: Entries_4_hours_cleaned, dtype: float64"
      ]
     },
     "execution_count": 86,
     "metadata": {},
     "output_type": "execute_result"
    }
   ],
   "source": [
    "# explore entries distribution\n",
    "mta_df['Entries_4_hours_cleaned'].describe()"
   ]
  },
  {
   "cell_type": "markdown",
   "metadata": {},
   "source": [
    "## distribution of entries in every 4 hours at a turnstile"
   ]
  },
  {
   "cell_type": "code",
   "execution_count": 87,
   "metadata": {},
   "outputs": [
    {
     "data": {
      "text/plain": [
       "<matplotlib.axes._subplots.AxesSubplot at 0x10e82c780>"
      ]
     },
     "execution_count": 87,
     "metadata": {},
     "output_type": "execute_result"
    },
    {
     "data": {
      "image/png": "[encoded data removed]",
      "text/plain": [
       "<matplotlib.figure.Figure at 0x12318b080>"
      ]
     },
     "metadata": {},
     "output_type": "display_data"
    }
   ],
   "source": [
    "mta_df['Entries_4_hours_cleaned'].hist(range=[0, 1e3])"
   ]
  },
  {
   "cell_type": "markdown",
   "metadata": {},
   "source": [
    "## distribution of daily entries at a turnstile"
   ]
  },
  {
   "cell_type": "code",
   "execution_count": 88,
   "metadata": {
    "scrolled": true
   },
   "outputs": [
    {
     "data": {
      "text/plain": [
       "<matplotlib.axes._subplots.AxesSubplot at 0x10e827fd0>"
      ]
     },
     "execution_count": 88,
     "metadata": {},
     "output_type": "execute_result"
    },
    {
     "data": {
      "image/png": "[encoded data removed]",
      "text/plain": [
       "<matplotlib.figure.Figure at 0x11ff940b8>"
      ]
     },
     "metadata": {},
     "output_type": "display_data"
    }
   ],
   "source": [
    "#mta_df.groupby(['C/A','Unit', 'SCP', 'Station', 'Date'])['Entries_4_hours_cleaned'].sum()\n",
    "mta_df.groupby(['C/A','Unit', 'SCP', 'Station','Date'])['Entries_4_hours_cleaned'].sum().hist(range=[0, 1e4])"
   ]
  },
  {
   "cell_type": "markdown",
   "metadata": {},
   "source": [
    "## distribution of daily entries at a station"
   ]
  },
  {
   "cell_type": "code",
   "execution_count": 89,
   "metadata": {},
   "outputs": [
    {
     "data": {
      "text/plain": [
       "<matplotlib.axes._subplots.AxesSubplot at 0x1231b8cc0>"
      ]
     },
     "execution_count": 89,
     "metadata": {},
     "output_type": "execute_result"
    },
    {
     "data": {
      "image/png": "[encoded data removed]",
      "text/plain": [
       "<matplotlib.figure.Figure at 0x10d778438>"
      ]
     },
     "metadata": {},
     "output_type": "display_data"
    }
   ],
   "source": [
    "mta_df.groupby(['Station','Date'])['Entries_4_hours_cleaned'].sum().hist(range=[0, 1e5])"
   ]
  },
  {
   "cell_type": "markdown",
   "metadata": {},
   "source": [
    "## distribution of sum of entries on a day of the week at a station"
   ]
  },
  {
   "cell_type": "code",
   "execution_count": 90,
   "metadata": {},
   "outputs": [
    {
     "data": {
      "text/plain": [
       "<matplotlib.axes._subplots.AxesSubplot at 0x15a7c7c50>"
      ]
     },
     "execution_count": 90,
     "metadata": {},
     "output_type": "execute_result"
    },
    {
     "data": {
      "image/png": "[encoded data removed]",
      "text/plain": [
       "<matplotlib.figure.Figure at 0x142638e80>"
      ]
     },
     "metadata": {},
     "output_type": "display_data"
    }
   ],
   "source": [
    "#mta_df.groupby(['Station', 'day'], as_index=False)['Entries_4_hours_cleaned'].sum()\n",
    "\n",
    "mta_df.groupby(['Station', 'Day'])['Entries_4_hours_cleaned'].sum().hist(range=[0,1e6])"
   ]
  },
  {
   "cell_type": "code",
   "execution_count": 91,
   "metadata": {},
   "outputs": [
    {
     "data": {
      "text/plain": [
       "['14 ST',\n",
       " '34 ST-HERALD SQ',\n",
       " 'CHAMBERS ST',\n",
       " '231 ST',\n",
       " 'HIGH ST',\n",
       " 'METROPOLITAN AV',\n",
       " 'CLINTON-WASH AV',\n",
       " '5 AVE',\n",
       " '15 ST-PROSPECT',\n",
       " 'UTICA AV',\n",
       " '34 ST-PENN STA',\n",
       " 'GRD CNTRL-42 ST',\n",
       " '23 ST',\n",
       " '14 ST-UNION SQ',\n",
       " 'TIMES SQ-42 ST',\n",
       " '42 ST-PORT AUTH',\n",
       " '86 ST',\n",
       " 'FULTON ST',\n",
       " '125 ST',\n",
       " '59 ST COLUMBUS']"
      ]
     },
     "execution_count": 91,
     "metadata": {},
     "output_type": "execute_result"
    }
   ],
   "source": [
    "top20_station = (list(mta_df.groupby(['Station'])['Entries_4_hours_cleaned']\n",
    "                      .sum().sort_values(ascending=False).head(20).index)\n",
    "                )\n",
    "top20_station"
   ]
  },
  {
   "cell_type": "code",
   "execution_count": 92,
   "metadata": {},
   "outputs": [
    {
     "data": {
      "text/plain": [
       "Date\n",
       "01/14/2017    2.879700e+04\n",
       "01/15/2017    2.893900e+04\n",
       "01/16/2017    3.531500e+04\n",
       "01/17/2017    5.812500e+04\n",
       "01/18/2017    6.037800e+04\n",
       "01/19/2017    6.197500e+04\n",
       "01/20/2017    6.053100e+04\n",
       "01/21/2017    3.297700e+04\n",
       "01/22/2017    2.122217e+09\n",
       "01/23/2017    5.139800e+04\n",
       "01/24/2017    5.652800e+04\n",
       "01/25/2017    6.079400e+04\n",
       "01/26/2017    6.072600e+04\n",
       "01/27/2017    5.992300e+04\n",
       "01/28/2017    3.665800e+04\n",
       "01/29/2017    2.919800e+04\n",
       "01/30/2017    5.434500e+04\n",
       "01/31/2017    5.913900e+04\n",
       "02/01/2017    6.165900e+04\n",
       "02/02/2017    6.244900e+04\n",
       "02/03/2017    5.932200e+04\n",
       "02/11/2017    3.673220e+05\n",
       "02/12/2017    2.539600e+04\n",
       "02/13/2017    5.733500e+04\n",
       "02/14/2017    6.216700e+04\n",
       "02/15/2017    6.200800e+04\n",
       "02/16/2017    6.109700e+04\n",
       "02/17/2017    5.829600e+04\n",
       "02/18/2017    3.203200e+04\n",
       "02/19/2017    2.792800e+04\n",
       "02/20/2017    3.003500e+04\n",
       "Name: Entries_4_hours_cleaned, dtype: float64"
      ]
     },
     "execution_count": 92,
     "metadata": {},
     "output_type": "execute_result"
    }
   ],
   "source": [
    "mta_df[mta_df['Station'] == top20_station[0]].groupby(['Date'])['Entries_4_hours_cleaned'].sum()"
   ]
  },
  {
   "cell_type": "code",
   "execution_count": null,
   "metadata": {
    "collapsed": true
   },
   "outputs": [],
   "source": []
  }
 ],
 "metadata": {
  "kernelspec": {
   "display_name": "Python 3",
   "language": "python",
   "name": "python3"
  },
  "language_info": {
   "codemirror_mode": {
    "name": "ipython",
    "version": 3
   },
   "file_extension": ".py",
   "mimetype": "text/x-python",
   "name": "python",
   "nbconvert_exporter": "python",
   "pygments_lexer": "ipython3",
   "version": "3.6.3"
  }
 },
 "nbformat": 4,
 "nbformat_minor": 2
}
