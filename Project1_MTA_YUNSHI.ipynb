{
 "cells": [
  {
   "cell_type": "markdown",
   "metadata": {},
   "source": [
    "# 1. Import Libraries"
   ]
  },
  {
   "cell_type": "code",
   "execution_count": 1,
   "metadata": {
    "collapsed": true
   },
   "outputs": [],
   "source": [
    "import numpy as np\n",
    "import pandas as pd\n",
    "import matplotlib.pyplot as plt\n",
    "import seaborn as sns\n",
    "sns.set()\n",
    "\n",
    "%matplotlib inline"
   ]
  },
  {
   "cell_type": "markdown",
   "metadata": {},
   "source": [
    "# 2. Import Data"
   ]
  },
  {
   "cell_type": "code",
   "execution_count": 2,
   "metadata": {},
   "outputs": [
    {
     "data": {
      "text/html": [
       "<div>\n",
       "<style>\n",
       "    .dataframe thead tr:only-child th {\n",
       "        text-align: right;\n",
       "    }\n",
       "\n",
       "    .dataframe thead th {\n",
       "        text-align: left;\n",
       "    }\n",
       "\n",
       "    .dataframe tbody tr th {\n",
       "        vertical-align: top;\n",
       "    }\n",
       "</style>\n",
       "<table border=\"1\" class=\"dataframe\">\n",
       "  <thead>\n",
       "    <tr style=\"text-align: right;\">\n",
       "      <th></th>\n",
       "      <th>C/A</th>\n",
       "      <th>Unit</th>\n",
       "      <th>SCP</th>\n",
       "      <th>Station</th>\n",
       "      <th>Line Name</th>\n",
       "      <th>Division</th>\n",
       "      <th>Date</th>\n",
       "      <th>Time</th>\n",
       "      <th>Description</th>\n",
       "      <th>Entries</th>\n",
       "      <th>Exits</th>\n",
       "    </tr>\n",
       "  </thead>\n",
       "  <tbody>\n",
       "    <tr>\n",
       "      <th>0</th>\n",
       "      <td>A002</td>\n",
       "      <td>R051</td>\n",
       "      <td>02-00-00</td>\n",
       "      <td>59 ST</td>\n",
       "      <td>NQR456W</td>\n",
       "      <td>BMT</td>\n",
       "      <td>12/31/2016</td>\n",
       "      <td>03:00:00</td>\n",
       "      <td>REGULAR</td>\n",
       "      <td>5991546</td>\n",
       "      <td>2028378</td>\n",
       "    </tr>\n",
       "    <tr>\n",
       "      <th>1</th>\n",
       "      <td>A002</td>\n",
       "      <td>R051</td>\n",
       "      <td>02-00-00</td>\n",
       "      <td>59 ST</td>\n",
       "      <td>NQR456W</td>\n",
       "      <td>BMT</td>\n",
       "      <td>12/31/2016</td>\n",
       "      <td>07:00:00</td>\n",
       "      <td>REGULAR</td>\n",
       "      <td>5991565</td>\n",
       "      <td>2028389</td>\n",
       "    </tr>\n",
       "    <tr>\n",
       "      <th>2</th>\n",
       "      <td>A002</td>\n",
       "      <td>R051</td>\n",
       "      <td>02-00-00</td>\n",
       "      <td>59 ST</td>\n",
       "      <td>NQR456W</td>\n",
       "      <td>BMT</td>\n",
       "      <td>12/31/2016</td>\n",
       "      <td>11:00:00</td>\n",
       "      <td>REGULAR</td>\n",
       "      <td>5991644</td>\n",
       "      <td>2028441</td>\n",
       "    </tr>\n",
       "    <tr>\n",
       "      <th>3</th>\n",
       "      <td>A002</td>\n",
       "      <td>R051</td>\n",
       "      <td>02-00-00</td>\n",
       "      <td>59 ST</td>\n",
       "      <td>NQR456W</td>\n",
       "      <td>BMT</td>\n",
       "      <td>12/31/2016</td>\n",
       "      <td>15:00:00</td>\n",
       "      <td>REGULAR</td>\n",
       "      <td>5991971</td>\n",
       "      <td>2028502</td>\n",
       "    </tr>\n",
       "    <tr>\n",
       "      <th>4</th>\n",
       "      <td>A002</td>\n",
       "      <td>R051</td>\n",
       "      <td>02-00-00</td>\n",
       "      <td>59 ST</td>\n",
       "      <td>NQR456W</td>\n",
       "      <td>BMT</td>\n",
       "      <td>12/31/2016</td>\n",
       "      <td>19:00:00</td>\n",
       "      <td>REGULAR</td>\n",
       "      <td>5992418</td>\n",
       "      <td>2028543</td>\n",
       "    </tr>\n",
       "  </tbody>\n",
       "</table>\n",
       "</div>"
      ],
      "text/plain": [
       "    C/A  Unit       SCP Station Line Name Division        Date      Time  \\\n",
       "0  A002  R051  02-00-00   59 ST   NQR456W      BMT  12/31/2016  03:00:00   \n",
       "1  A002  R051  02-00-00   59 ST   NQR456W      BMT  12/31/2016  07:00:00   \n",
       "2  A002  R051  02-00-00   59 ST   NQR456W      BMT  12/31/2016  11:00:00   \n",
       "3  A002  R051  02-00-00   59 ST   NQR456W      BMT  12/31/2016  15:00:00   \n",
       "4  A002  R051  02-00-00   59 ST   NQR456W      BMT  12/31/2016  19:00:00   \n",
       "\n",
       "  Description  Entries    Exits  \n",
       "0     REGULAR  5991546  2028378  \n",
       "1     REGULAR  5991565  2028389  \n",
       "2     REGULAR  5991644  2028441  \n",
       "3     REGULAR  5991971  2028502  \n",
       "4     REGULAR  5992418  2028543  "
      ]
     },
     "execution_count": 2,
     "metadata": {},
     "output_type": "execute_result"
    }
   ],
   "source": [
    "rawmta_df = pd.read_csv(\"./Turnstile_Usage_Data__2017.csv\")\n",
    "#mta_df = pd.read_csv(\"./Benson_Valentine.csv\")\n",
    "rawmta_df.columns = [column.strip() for column in rawmta_df.columns]\n",
    "rawmta_df.head()"
   ]
  },
  {
   "cell_type": "markdown",
   "metadata": {},
   "source": [
    "# 3. Clean Data\n",
    "\n",
    "## Convert to Datetime Object"
   ]
  },
  {
   "cell_type": "code",
   "execution_count": 3,
   "metadata": {},
   "outputs": [],
   "source": [
    "rawmta_df['Datetime'] = pd.to_datetime(rawmta_df['Date'] + rawmta_df['Time'], \n",
    "                                       format='%m/%d/%Y%H:%M:%S')"
   ]
  },
  {
   "cell_type": "markdown",
   "metadata": {},
   "source": [
    "## Select timeframe "
   ]
  },
  {
   "cell_type": "code",
   "execution_count": 4,
   "metadata": {},
   "outputs": [],
   "source": [
    "start_date1 = '20170101'\n",
    "end_date1 = '20170203'\n",
    "start_date2 = '20170212'\n",
    "end_date2 = '20170227'\n",
    "mta_df = rawmta_df[((rawmta_df['Datetime'] >= start_date1) & (rawmta_df['Datetime'] <= end_date1)) |\n",
    "                   ((rawmta_df['Datetime'] >= start_date2) & (rawmta_df['Datetime'] <= end_date2))]"
   ]
  },
  {
   "cell_type": "code",
   "execution_count": 5,
   "metadata": {},
   "outputs": [
    {
     "data": {
      "text/html": [
       "<div>\n",
       "<style>\n",
       "    .dataframe thead tr:only-child th {\n",
       "        text-align: right;\n",
       "    }\n",
       "\n",
       "    .dataframe thead th {\n",
       "        text-align: left;\n",
       "    }\n",
       "\n",
       "    .dataframe tbody tr th {\n",
       "        vertical-align: top;\n",
       "    }\n",
       "</style>\n",
       "<table border=\"1\" class=\"dataframe\">\n",
       "  <thead>\n",
       "    <tr style=\"text-align: right;\">\n",
       "      <th></th>\n",
       "      <th>C/A</th>\n",
       "      <th>Unit</th>\n",
       "      <th>SCP</th>\n",
       "      <th>Station</th>\n",
       "      <th>Line Name</th>\n",
       "      <th>Division</th>\n",
       "      <th>Date</th>\n",
       "      <th>Time</th>\n",
       "      <th>Description</th>\n",
       "      <th>Entries</th>\n",
       "      <th>Exits</th>\n",
       "      <th>Datetime</th>\n",
       "    </tr>\n",
       "  </thead>\n",
       "  <tbody>\n",
       "    <tr>\n",
       "      <th>6</th>\n",
       "      <td>A002</td>\n",
       "      <td>R051</td>\n",
       "      <td>02-00-00</td>\n",
       "      <td>59 ST</td>\n",
       "      <td>NQR456W</td>\n",
       "      <td>BMT</td>\n",
       "      <td>01/01/2017</td>\n",
       "      <td>03:00:00</td>\n",
       "      <td>REGULAR</td>\n",
       "      <td>5992718</td>\n",
       "      <td>2028585</td>\n",
       "      <td>2017-01-01 03:00:00</td>\n",
       "    </tr>\n",
       "    <tr>\n",
       "      <th>7</th>\n",
       "      <td>A002</td>\n",
       "      <td>R051</td>\n",
       "      <td>02-00-00</td>\n",
       "      <td>59 ST</td>\n",
       "      <td>NQR456W</td>\n",
       "      <td>BMT</td>\n",
       "      <td>01/01/2017</td>\n",
       "      <td>07:00:00</td>\n",
       "      <td>REGULAR</td>\n",
       "      <td>5992730</td>\n",
       "      <td>2028594</td>\n",
       "      <td>2017-01-01 07:00:00</td>\n",
       "    </tr>\n",
       "    <tr>\n",
       "      <th>8</th>\n",
       "      <td>A002</td>\n",
       "      <td>R051</td>\n",
       "      <td>02-00-00</td>\n",
       "      <td>59 ST</td>\n",
       "      <td>NQR456W</td>\n",
       "      <td>BMT</td>\n",
       "      <td>01/01/2017</td>\n",
       "      <td>11:00:00</td>\n",
       "      <td>REGULAR</td>\n",
       "      <td>5992776</td>\n",
       "      <td>2028636</td>\n",
       "      <td>2017-01-01 11:00:00</td>\n",
       "    </tr>\n",
       "    <tr>\n",
       "      <th>9</th>\n",
       "      <td>A002</td>\n",
       "      <td>R051</td>\n",
       "      <td>02-00-00</td>\n",
       "      <td>59 ST</td>\n",
       "      <td>NQR456W</td>\n",
       "      <td>BMT</td>\n",
       "      <td>01/01/2017</td>\n",
       "      <td>15:00:00</td>\n",
       "      <td>REGULAR</td>\n",
       "      <td>5992980</td>\n",
       "      <td>2028680</td>\n",
       "      <td>2017-01-01 15:00:00</td>\n",
       "    </tr>\n",
       "    <tr>\n",
       "      <th>10</th>\n",
       "      <td>A002</td>\n",
       "      <td>R051</td>\n",
       "      <td>02-00-00</td>\n",
       "      <td>59 ST</td>\n",
       "      <td>NQR456W</td>\n",
       "      <td>BMT</td>\n",
       "      <td>01/01/2017</td>\n",
       "      <td>19:00:00</td>\n",
       "      <td>REGULAR</td>\n",
       "      <td>5993301</td>\n",
       "      <td>2028728</td>\n",
       "      <td>2017-01-01 19:00:00</td>\n",
       "    </tr>\n",
       "  </tbody>\n",
       "</table>\n",
       "</div>"
      ],
      "text/plain": [
       "     C/A  Unit       SCP Station Line Name Division        Date      Time  \\\n",
       "6   A002  R051  02-00-00   59 ST   NQR456W      BMT  01/01/2017  03:00:00   \n",
       "7   A002  R051  02-00-00   59 ST   NQR456W      BMT  01/01/2017  07:00:00   \n",
       "8   A002  R051  02-00-00   59 ST   NQR456W      BMT  01/01/2017  11:00:00   \n",
       "9   A002  R051  02-00-00   59 ST   NQR456W      BMT  01/01/2017  15:00:00   \n",
       "10  A002  R051  02-00-00   59 ST   NQR456W      BMT  01/01/2017  19:00:00   \n",
       "\n",
       "   Description  Entries    Exits            Datetime  \n",
       "6      REGULAR  5992718  2028585 2017-01-01 03:00:00  \n",
       "7      REGULAR  5992730  2028594 2017-01-01 07:00:00  \n",
       "8      REGULAR  5992776  2028636 2017-01-01 11:00:00  \n",
       "9      REGULAR  5992980  2028680 2017-01-01 15:00:00  \n",
       "10     REGULAR  5993301  2028728 2017-01-01 19:00:00  "
      ]
     },
     "execution_count": 5,
     "metadata": {},
     "output_type": "execute_result"
    }
   ],
   "source": [
    "mta_df.head()"
   ]
  },
  {
   "cell_type": "markdown",
   "metadata": {},
   "source": [
    "## Filter REGULAR only"
   ]
  },
  {
   "cell_type": "code",
   "execution_count": 6,
   "metadata": {},
   "outputs": [
    {
     "data": {
      "text/html": [
       "<div>\n",
       "<style>\n",
       "    .dataframe thead tr:only-child th {\n",
       "        text-align: right;\n",
       "    }\n",
       "\n",
       "    .dataframe thead th {\n",
       "        text-align: left;\n",
       "    }\n",
       "\n",
       "    .dataframe tbody tr th {\n",
       "        vertical-align: top;\n",
       "    }\n",
       "</style>\n",
       "<table border=\"1\" class=\"dataframe\">\n",
       "  <thead>\n",
       "    <tr style=\"text-align: right;\">\n",
       "      <th></th>\n",
       "      <th>C/A</th>\n",
       "      <th>Unit</th>\n",
       "      <th>SCP</th>\n",
       "      <th>Station</th>\n",
       "      <th>Line Name</th>\n",
       "      <th>Date</th>\n",
       "      <th>Time</th>\n",
       "      <th>Entries</th>\n",
       "      <th>Datetime</th>\n",
       "    </tr>\n",
       "  </thead>\n",
       "  <tbody>\n",
       "    <tr>\n",
       "      <th>6</th>\n",
       "      <td>A002</td>\n",
       "      <td>R051</td>\n",
       "      <td>02-00-00</td>\n",
       "      <td>59 ST</td>\n",
       "      <td>NQR456W</td>\n",
       "      <td>01/01/2017</td>\n",
       "      <td>03:00:00</td>\n",
       "      <td>5992718</td>\n",
       "      <td>2017-01-01 03:00:00</td>\n",
       "    </tr>\n",
       "    <tr>\n",
       "      <th>7</th>\n",
       "      <td>A002</td>\n",
       "      <td>R051</td>\n",
       "      <td>02-00-00</td>\n",
       "      <td>59 ST</td>\n",
       "      <td>NQR456W</td>\n",
       "      <td>01/01/2017</td>\n",
       "      <td>07:00:00</td>\n",
       "      <td>5992730</td>\n",
       "      <td>2017-01-01 07:00:00</td>\n",
       "    </tr>\n",
       "    <tr>\n",
       "      <th>8</th>\n",
       "      <td>A002</td>\n",
       "      <td>R051</td>\n",
       "      <td>02-00-00</td>\n",
       "      <td>59 ST</td>\n",
       "      <td>NQR456W</td>\n",
       "      <td>01/01/2017</td>\n",
       "      <td>11:00:00</td>\n",
       "      <td>5992776</td>\n",
       "      <td>2017-01-01 11:00:00</td>\n",
       "    </tr>\n",
       "    <tr>\n",
       "      <th>9</th>\n",
       "      <td>A002</td>\n",
       "      <td>R051</td>\n",
       "      <td>02-00-00</td>\n",
       "      <td>59 ST</td>\n",
       "      <td>NQR456W</td>\n",
       "      <td>01/01/2017</td>\n",
       "      <td>15:00:00</td>\n",
       "      <td>5992980</td>\n",
       "      <td>2017-01-01 15:00:00</td>\n",
       "    </tr>\n",
       "    <tr>\n",
       "      <th>10</th>\n",
       "      <td>A002</td>\n",
       "      <td>R051</td>\n",
       "      <td>02-00-00</td>\n",
       "      <td>59 ST</td>\n",
       "      <td>NQR456W</td>\n",
       "      <td>01/01/2017</td>\n",
       "      <td>19:00:00</td>\n",
       "      <td>5993301</td>\n",
       "      <td>2017-01-01 19:00:00</td>\n",
       "    </tr>\n",
       "  </tbody>\n",
       "</table>\n",
       "</div>"
      ],
      "text/plain": [
       "     C/A  Unit       SCP Station Line Name        Date      Time  Entries  \\\n",
       "6   A002  R051  02-00-00   59 ST   NQR456W  01/01/2017  03:00:00  5992718   \n",
       "7   A002  R051  02-00-00   59 ST   NQR456W  01/01/2017  07:00:00  5992730   \n",
       "8   A002  R051  02-00-00   59 ST   NQR456W  01/01/2017  11:00:00  5992776   \n",
       "9   A002  R051  02-00-00   59 ST   NQR456W  01/01/2017  15:00:00  5992980   \n",
       "10  A002  R051  02-00-00   59 ST   NQR456W  01/01/2017  19:00:00  5993301   \n",
       "\n",
       "              Datetime  \n",
       "6  2017-01-01 03:00:00  \n",
       "7  2017-01-01 07:00:00  \n",
       "8  2017-01-01 11:00:00  \n",
       "9  2017-01-01 15:00:00  \n",
       "10 2017-01-01 19:00:00  "
      ]
     },
     "execution_count": 6,
     "metadata": {},
     "output_type": "execute_result"
    }
   ],
   "source": [
    "mta_reg_df = mta_df[mta_df['Description'] == 'REGULAR'].copy()\n",
    "mta_reg_df = mta_reg_df.drop(['Description','Division', 'Exits'], axis=1)\n",
    "mta_reg_df.head()"
   ]
  },
  {
   "cell_type": "markdown",
   "metadata": {},
   "source": [
    "## Sort dataframe and delete duplicates"
   ]
  },
  {
   "cell_type": "code",
   "execution_count": 7,
   "metadata": {
    "collapsed": true
   },
   "outputs": [],
   "source": [
    "mta_reg_df = mta_reg_df.sort_values(['C/A', 'Unit', 'SCP', 'Station', 'Line Name', 'Datetime'])\n",
    "mta_reg_df = mta_reg_df.drop_duplicates(subset=['C/A', 'Unit', 'SCP', 'Station', 'Line Name', 'Datetime'])"
   ]
  },
  {
   "cell_type": "markdown",
   "metadata": {},
   "source": [
    "## Add a column of day_of_week"
   ]
  },
  {
   "cell_type": "code",
   "execution_count": 8,
   "metadata": {},
   "outputs": [],
   "source": [
    "#from pandas.tseries.holiday import USFederalHolidayCalendar as calendar\n",
    "\n",
    "#cal = calendar()\n",
    "#holidays = cal.holidays(start=mta_df.Date.min(), end=mta_df.Date.max())\n",
    "\n",
    "#mta_df['Holiday'] = mta_df['Date'].isin(holidays)\n",
    "\n",
    "mta_reg_df['Day_of_Week'] = mta_reg_df['Datetime'].dt.dayofweek\n",
    "#mta_df['Week_#'] = mta_df['Datetime'].dt.week"
   ]
  },
  {
   "cell_type": "markdown",
   "metadata": {},
   "source": [
    "## Calculate Entries in Each Time Interval"
   ]
  },
  {
   "cell_type": "code",
   "execution_count": 9,
   "metadata": {},
   "outputs": [],
   "source": [
    "mta_reg_df[['Previous_datetime', 'Previous_entries']] = (mta_reg_df\n",
    "                                                     .groupby(['C/A', 'Unit', 'SCP', 'Station', 'Line Name'])[\"Datetime\", \"Entries\"]\n",
    "                                                     .transform(lambda grp: grp.shift(1))\n",
    "                                                    )"
   ]
  },
  {
   "cell_type": "markdown",
   "metadata": {},
   "source": [
    "## Clean abnormal net entry counts"
   ]
  },
  {
   "cell_type": "code",
   "execution_count": 10,
   "metadata": {},
   "outputs": [],
   "source": [
    "# drop record with negative entries every 4 hours\n",
    "# mta_df = mta_df[mta_df['Entries_4_hours_cleaned'] > 0]\n",
    "\n",
    "def get_daily_counts(row, max_counter):\n",
    "    counter = row[\"Entries\"] - row[\"Previous_entries\"]\n",
    "    if counter < 0:\n",
    "        # Maybe counter is reversed?\n",
    "        counter = -counter\n",
    "    if counter > max_counter:\n",
    "        counter = min(row[\"Entries\"], row[\"Previous_entries\"])\n",
    "    if counter > max_counter:\n",
    "        # Check it again to make sure we are not giving a counter that's too big\n",
    "        return 0\n",
    "    return counter\n",
    "\n",
    "# If counter is > 1Million, then the counter might have been reset.  \n",
    "# Just set it to zero as different counters have different cycle limits\n",
    "mta_reg_df[\"Net_entries\"] = mta_reg_df.apply(get_daily_counts, axis=1, max_counter=1000000)"
   ]
  },
  {
   "cell_type": "code",
   "execution_count": 11,
   "metadata": {},
   "outputs": [
    {
     "data": {
      "text/html": [
       "<div>\n",
       "<style>\n",
       "    .dataframe thead tr:only-child th {\n",
       "        text-align: right;\n",
       "    }\n",
       "\n",
       "    .dataframe thead th {\n",
       "        text-align: left;\n",
       "    }\n",
       "\n",
       "    .dataframe tbody tr th {\n",
       "        vertical-align: top;\n",
       "    }\n",
       "</style>\n",
       "<table border=\"1\" class=\"dataframe\">\n",
       "  <thead>\n",
       "    <tr style=\"text-align: right;\">\n",
       "      <th></th>\n",
       "      <th>C/A</th>\n",
       "      <th>Unit</th>\n",
       "      <th>SCP</th>\n",
       "      <th>Station</th>\n",
       "      <th>Line Name</th>\n",
       "      <th>Date</th>\n",
       "      <th>Time</th>\n",
       "      <th>Datetime</th>\n",
       "      <th>Day_of_Week</th>\n",
       "      <th>Previous_datetime</th>\n",
       "      <th>Previous_entries</th>\n",
       "      <th>Net_entries</th>\n",
       "    </tr>\n",
       "  </thead>\n",
       "  <tbody>\n",
       "    <tr>\n",
       "      <th>6</th>\n",
       "      <td>A002</td>\n",
       "      <td>R051</td>\n",
       "      <td>02-00-00</td>\n",
       "      <td>59 ST</td>\n",
       "      <td>NQR456W</td>\n",
       "      <td>01/01/2017</td>\n",
       "      <td>03:00:00</td>\n",
       "      <td>2017-01-01 03:00:00</td>\n",
       "      <td>6</td>\n",
       "      <td>NaT</td>\n",
       "      <td>NaN</td>\n",
       "      <td>0.0</td>\n",
       "    </tr>\n",
       "    <tr>\n",
       "      <th>7</th>\n",
       "      <td>A002</td>\n",
       "      <td>R051</td>\n",
       "      <td>02-00-00</td>\n",
       "      <td>59 ST</td>\n",
       "      <td>NQR456W</td>\n",
       "      <td>01/01/2017</td>\n",
       "      <td>07:00:00</td>\n",
       "      <td>2017-01-01 07:00:00</td>\n",
       "      <td>6</td>\n",
       "      <td>2017-01-01 03:00:00</td>\n",
       "      <td>5992718.0</td>\n",
       "      <td>12.0</td>\n",
       "    </tr>\n",
       "    <tr>\n",
       "      <th>8</th>\n",
       "      <td>A002</td>\n",
       "      <td>R051</td>\n",
       "      <td>02-00-00</td>\n",
       "      <td>59 ST</td>\n",
       "      <td>NQR456W</td>\n",
       "      <td>01/01/2017</td>\n",
       "      <td>11:00:00</td>\n",
       "      <td>2017-01-01 11:00:00</td>\n",
       "      <td>6</td>\n",
       "      <td>2017-01-01 07:00:00</td>\n",
       "      <td>5992730.0</td>\n",
       "      <td>46.0</td>\n",
       "    </tr>\n",
       "    <tr>\n",
       "      <th>9</th>\n",
       "      <td>A002</td>\n",
       "      <td>R051</td>\n",
       "      <td>02-00-00</td>\n",
       "      <td>59 ST</td>\n",
       "      <td>NQR456W</td>\n",
       "      <td>01/01/2017</td>\n",
       "      <td>15:00:00</td>\n",
       "      <td>2017-01-01 15:00:00</td>\n",
       "      <td>6</td>\n",
       "      <td>2017-01-01 11:00:00</td>\n",
       "      <td>5992776.0</td>\n",
       "      <td>204.0</td>\n",
       "    </tr>\n",
       "    <tr>\n",
       "      <th>10</th>\n",
       "      <td>A002</td>\n",
       "      <td>R051</td>\n",
       "      <td>02-00-00</td>\n",
       "      <td>59 ST</td>\n",
       "      <td>NQR456W</td>\n",
       "      <td>01/01/2017</td>\n",
       "      <td>19:00:00</td>\n",
       "      <td>2017-01-01 19:00:00</td>\n",
       "      <td>6</td>\n",
       "      <td>2017-01-01 15:00:00</td>\n",
       "      <td>5992980.0</td>\n",
       "      <td>321.0</td>\n",
       "    </tr>\n",
       "  </tbody>\n",
       "</table>\n",
       "</div>"
      ],
      "text/plain": [
       "     C/A  Unit       SCP Station Line Name        Date      Time  \\\n",
       "6   A002  R051  02-00-00   59 ST   NQR456W  01/01/2017  03:00:00   \n",
       "7   A002  R051  02-00-00   59 ST   NQR456W  01/01/2017  07:00:00   \n",
       "8   A002  R051  02-00-00   59 ST   NQR456W  01/01/2017  11:00:00   \n",
       "9   A002  R051  02-00-00   59 ST   NQR456W  01/01/2017  15:00:00   \n",
       "10  A002  R051  02-00-00   59 ST   NQR456W  01/01/2017  19:00:00   \n",
       "\n",
       "              Datetime  Day_of_Week   Previous_datetime  Previous_entries  \\\n",
       "6  2017-01-01 03:00:00            6                 NaT               NaN   \n",
       "7  2017-01-01 07:00:00            6 2017-01-01 03:00:00         5992718.0   \n",
       "8  2017-01-01 11:00:00            6 2017-01-01 07:00:00         5992730.0   \n",
       "9  2017-01-01 15:00:00            6 2017-01-01 11:00:00         5992776.0   \n",
       "10 2017-01-01 19:00:00            6 2017-01-01 15:00:00         5992980.0   \n",
       "\n",
       "    Net_entries  \n",
       "6           0.0  \n",
       "7          12.0  \n",
       "8          46.0  \n",
       "9         204.0  \n",
       "10        321.0  "
      ]
     },
     "execution_count": 11,
     "metadata": {},
     "output_type": "execute_result"
    }
   ],
   "source": [
    "mta_reg_df[\"Net_entries\"] = mta_reg_df[\"Net_entries\"].fillna(0)\n",
    "mta_reg_df.loc[mta_reg_df['Datetime'] == '2017/2/12 00:00:00','Net_entries'] = 0\n",
    "mta_reg_df = mta_reg_df.drop(['Entries'], axis=1)\n",
    "mta_reg_df.head()"
   ]
  },
  {
   "cell_type": "markdown",
   "metadata": {},
   "source": [
    "## Round the datatime to nearest hour for calculation convenience"
   ]
  },
  {
   "cell_type": "code",
   "execution_count": 12,
   "metadata": {},
   "outputs": [
    {
     "data": {
      "text/plain": [
       "0     1233650\n",
       "22      11725\n",
       "30      10312\n",
       "51       1767\n",
       "19       1741\n",
       "3        1720\n",
       "5        1697\n",
       "15       1685\n",
       "7        1660\n",
       "55       1643\n",
       "Name: Datetime, dtype: int64"
      ]
     },
     "execution_count": 12,
     "metadata": {},
     "output_type": "execute_result"
    }
   ],
   "source": [
    "mta_reg_df.Datetime.dt.minute.value_counts().head(10)"
   ]
  },
  {
   "cell_type": "code",
   "execution_count": 13,
   "metadata": {},
   "outputs": [],
   "source": [
    "mta_reg_df['Datetime_cleaned'] = mta_reg_df.Datetime.dt.round('h')\n",
    "mta_reg_df['Previous_datetime_cleaned'] = (mta_reg_df\n",
    "                                           .groupby(['C/A', 'Unit', 'SCP', 'Station', 'Line Name'])[\"Datetime_cleaned\"]\n",
    "                                           .transform(lambda grp: grp.shift(1))\n",
    "                                          )"
   ]
  },
  {
   "cell_type": "code",
   "execution_count": 14,
   "metadata": {},
   "outputs": [
    {
     "data": {
      "text/html": [
       "<div>\n",
       "<style>\n",
       "    .dataframe thead tr:only-child th {\n",
       "        text-align: right;\n",
       "    }\n",
       "\n",
       "    .dataframe thead th {\n",
       "        text-align: left;\n",
       "    }\n",
       "\n",
       "    .dataframe tbody tr th {\n",
       "        vertical-align: top;\n",
       "    }\n",
       "</style>\n",
       "<table border=\"1\" class=\"dataframe\">\n",
       "  <thead>\n",
       "    <tr style=\"text-align: right;\">\n",
       "      <th></th>\n",
       "      <th>C/A</th>\n",
       "      <th>Unit</th>\n",
       "      <th>SCP</th>\n",
       "      <th>Station</th>\n",
       "      <th>Line Name</th>\n",
       "      <th>Date</th>\n",
       "      <th>Time</th>\n",
       "      <th>Datetime</th>\n",
       "      <th>Day_of_Week</th>\n",
       "      <th>Previous_datetime</th>\n",
       "      <th>Previous_entries</th>\n",
       "      <th>Net_entries</th>\n",
       "      <th>Datetime_cleaned</th>\n",
       "      <th>Previous_datetime_cleaned</th>\n",
       "    </tr>\n",
       "  </thead>\n",
       "  <tbody>\n",
       "    <tr>\n",
       "      <th>6</th>\n",
       "      <td>A002</td>\n",
       "      <td>R051</td>\n",
       "      <td>02-00-00</td>\n",
       "      <td>59 ST</td>\n",
       "      <td>NQR456W</td>\n",
       "      <td>01/01/2017</td>\n",
       "      <td>03:00:00</td>\n",
       "      <td>2017-01-01 03:00:00</td>\n",
       "      <td>6</td>\n",
       "      <td>NaT</td>\n",
       "      <td>NaN</td>\n",
       "      <td>0.0</td>\n",
       "      <td>2017-01-01 03:00:00</td>\n",
       "      <td>NaT</td>\n",
       "    </tr>\n",
       "    <tr>\n",
       "      <th>7</th>\n",
       "      <td>A002</td>\n",
       "      <td>R051</td>\n",
       "      <td>02-00-00</td>\n",
       "      <td>59 ST</td>\n",
       "      <td>NQR456W</td>\n",
       "      <td>01/01/2017</td>\n",
       "      <td>07:00:00</td>\n",
       "      <td>2017-01-01 07:00:00</td>\n",
       "      <td>6</td>\n",
       "      <td>2017-01-01 03:00:00</td>\n",
       "      <td>5992718.0</td>\n",
       "      <td>12.0</td>\n",
       "      <td>2017-01-01 07:00:00</td>\n",
       "      <td>2017-01-01 03:00:00</td>\n",
       "    </tr>\n",
       "    <tr>\n",
       "      <th>8</th>\n",
       "      <td>A002</td>\n",
       "      <td>R051</td>\n",
       "      <td>02-00-00</td>\n",
       "      <td>59 ST</td>\n",
       "      <td>NQR456W</td>\n",
       "      <td>01/01/2017</td>\n",
       "      <td>11:00:00</td>\n",
       "      <td>2017-01-01 11:00:00</td>\n",
       "      <td>6</td>\n",
       "      <td>2017-01-01 07:00:00</td>\n",
       "      <td>5992730.0</td>\n",
       "      <td>46.0</td>\n",
       "      <td>2017-01-01 11:00:00</td>\n",
       "      <td>2017-01-01 07:00:00</td>\n",
       "    </tr>\n",
       "    <tr>\n",
       "      <th>9</th>\n",
       "      <td>A002</td>\n",
       "      <td>R051</td>\n",
       "      <td>02-00-00</td>\n",
       "      <td>59 ST</td>\n",
       "      <td>NQR456W</td>\n",
       "      <td>01/01/2017</td>\n",
       "      <td>15:00:00</td>\n",
       "      <td>2017-01-01 15:00:00</td>\n",
       "      <td>6</td>\n",
       "      <td>2017-01-01 11:00:00</td>\n",
       "      <td>5992776.0</td>\n",
       "      <td>204.0</td>\n",
       "      <td>2017-01-01 15:00:00</td>\n",
       "      <td>2017-01-01 11:00:00</td>\n",
       "    </tr>\n",
       "    <tr>\n",
       "      <th>10</th>\n",
       "      <td>A002</td>\n",
       "      <td>R051</td>\n",
       "      <td>02-00-00</td>\n",
       "      <td>59 ST</td>\n",
       "      <td>NQR456W</td>\n",
       "      <td>01/01/2017</td>\n",
       "      <td>19:00:00</td>\n",
       "      <td>2017-01-01 19:00:00</td>\n",
       "      <td>6</td>\n",
       "      <td>2017-01-01 15:00:00</td>\n",
       "      <td>5992980.0</td>\n",
       "      <td>321.0</td>\n",
       "      <td>2017-01-01 19:00:00</td>\n",
       "      <td>2017-01-01 15:00:00</td>\n",
       "    </tr>\n",
       "  </tbody>\n",
       "</table>\n",
       "</div>"
      ],
      "text/plain": [
       "     C/A  Unit       SCP Station Line Name        Date      Time  \\\n",
       "6   A002  R051  02-00-00   59 ST   NQR456W  01/01/2017  03:00:00   \n",
       "7   A002  R051  02-00-00   59 ST   NQR456W  01/01/2017  07:00:00   \n",
       "8   A002  R051  02-00-00   59 ST   NQR456W  01/01/2017  11:00:00   \n",
       "9   A002  R051  02-00-00   59 ST   NQR456W  01/01/2017  15:00:00   \n",
       "10  A002  R051  02-00-00   59 ST   NQR456W  01/01/2017  19:00:00   \n",
       "\n",
       "              Datetime  Day_of_Week   Previous_datetime  Previous_entries  \\\n",
       "6  2017-01-01 03:00:00            6                 NaT               NaN   \n",
       "7  2017-01-01 07:00:00            6 2017-01-01 03:00:00         5992718.0   \n",
       "8  2017-01-01 11:00:00            6 2017-01-01 07:00:00         5992730.0   \n",
       "9  2017-01-01 15:00:00            6 2017-01-01 11:00:00         5992776.0   \n",
       "10 2017-01-01 19:00:00            6 2017-01-01 15:00:00         5992980.0   \n",
       "\n",
       "    Net_entries    Datetime_cleaned Previous_datetime_cleaned  \n",
       "6           0.0 2017-01-01 03:00:00                       NaT  \n",
       "7          12.0 2017-01-01 07:00:00       2017-01-01 03:00:00  \n",
       "8          46.0 2017-01-01 11:00:00       2017-01-01 07:00:00  \n",
       "9         204.0 2017-01-01 15:00:00       2017-01-01 11:00:00  \n",
       "10        321.0 2017-01-01 19:00:00       2017-01-01 15:00:00  "
      ]
     },
     "execution_count": 14,
     "metadata": {},
     "output_type": "execute_result"
    }
   ],
   "source": [
    "mta_reg_df.head()"
   ]
  },
  {
   "cell_type": "markdown",
   "metadata": {},
   "source": [
    "**After rounding the time, there are records with the same previous and current time. After checking the stats, most of these records have zero entries, so making a decision to drop those records**"
   ]
  },
  {
   "cell_type": "code",
   "execution_count": 15,
   "metadata": {},
   "outputs": [
    {
     "data": {
      "text/plain": [
       "0.0     2569\n",
       "1.0      835\n",
       "2.0      458\n",
       "3.0      319\n",
       "4.0      243\n",
       "5.0      172\n",
       "6.0      134\n",
       "7.0      105\n",
       "8.0       93\n",
       "11.0      75\n",
       "Name: Net_entries, dtype: int64"
      ]
     },
     "execution_count": 15,
     "metadata": {},
     "output_type": "execute_result"
    }
   ],
   "source": [
    "(mta_reg_df[mta_reg_df['Datetime_cleaned'] == mta_reg_df['Previous_datetime_cleaned']]['Net_entries']\n",
    " .value_counts().head(10)\n",
    ")"
   ]
  },
  {
   "cell_type": "code",
   "execution_count": 16,
   "metadata": {
    "collapsed": true
   },
   "outputs": [],
   "source": [
    "mta_reg_df = mta_reg_df[mta_reg_df['Datetime_cleaned'] != mta_reg_df['Previous_datetime_cleaned']]"
   ]
  },
  {
   "cell_type": "code",
   "execution_count": 17,
   "metadata": {},
   "outputs": [
    {
     "name": "stdout",
     "output_type": "stream",
     "text": [
      "<class 'pandas.core.frame.DataFrame'>\n",
      "Int64Index: 1329271 entries, 6 to 1562159\n",
      "Data columns (total 14 columns):\n",
      "C/A                          1329271 non-null object\n",
      "Unit                         1329271 non-null object\n",
      "SCP                          1329271 non-null object\n",
      "Station                      1329271 non-null object\n",
      "Line Name                    1329271 non-null object\n",
      "Date                         1329271 non-null object\n",
      "Time                         1329271 non-null object\n",
      "Datetime                     1329271 non-null datetime64[ns]\n",
      "Day_of_Week                  1329271 non-null int64\n",
      "Previous_datetime            1324580 non-null datetime64[ns]\n",
      "Previous_entries             1324580 non-null float64\n",
      "Net_entries                  1329271 non-null float64\n",
      "Datetime_cleaned             1329271 non-null datetime64[ns]\n",
      "Previous_datetime_cleaned    1324580 non-null datetime64[ns]\n",
      "dtypes: datetime64[ns](4), float64(2), int64(1), object(7)\n",
      "memory usage: 152.1+ MB\n"
     ]
    }
   ],
   "source": [
    "mta_reg_df.info()"
   ]
  },
  {
   "cell_type": "markdown",
   "metadata": {},
   "source": [
    "**Create a new dataframe with cleaned datetime**"
   ]
  },
  {
   "cell_type": "code",
   "execution_count": 18,
   "metadata": {},
   "outputs": [],
   "source": [
    "mta_reg_clean_time_df = mta_reg_df[['C/A', 'Unit', 'SCP', 'Station', 'Line Name', 'Date',\n",
    "                                   'Day_of_Week', 'Datetime_cleaned','Previous_datetime_cleaned',\n",
    "                                   'Net_entries']].copy()"
   ]
  },
  {
   "cell_type": "markdown",
   "metadata": {},
   "source": [
    "**Calcuate time duration for the net entries**"
   ]
  },
  {
   "cell_type": "code",
   "execution_count": 19,
   "metadata": {},
   "outputs": [],
   "source": [
    "mta_reg_clean_time_df['Time_difference'] = (mta_reg_clean_time_df['Datetime_cleaned'] \n",
    "                                            - mta_reg_clean_time_df['Previous_datetime_cleaned'])"
   ]
  },
  {
   "cell_type": "markdown",
   "metadata": {},
   "source": [
    "**Reset Net_entries and Time_difference to zero for the first records on 2/12/207 due to the period skip**"
   ]
  },
  {
   "cell_type": "code",
   "execution_count": 20,
   "metadata": {},
   "outputs": [],
   "source": [
    "mta_reg_clean_time_df.loc[(mta_reg_clean_time_df['Date']=='02/12/2017' )\n",
    "                          & (mta_reg_clean_time_df['Time_difference'] >= pd.Timedelta('9 days')),\n",
    "                         'Net_entries'] = 0"
   ]
  },
  {
   "cell_type": "code",
   "execution_count": 21,
   "metadata": {},
   "outputs": [],
   "source": [
    "mta_reg_clean_time_df.loc[(mta_reg_clean_time_df['Date']=='02/12/2017' )\n",
    "                          & (mta_reg_clean_time_df['Time_difference'] >= pd.Timedelta('9 days')),\n",
    "                         'Time_difference'] = pd.Timedelta('0 hours')"
   ]
  },
  {
   "cell_type": "markdown",
   "metadata": {},
   "source": [
    "**There are still 334 records of more than 1 day of entries getting summed to one record.**\n",
    "\n",
    "**To drop or not to drop???**"
   ]
  },
  {
   "cell_type": "code",
   "execution_count": 22,
   "metadata": {},
   "outputs": [
    {
     "data": {
      "text/plain": [
       "C/A                          334\n",
       "Unit                         334\n",
       "SCP                          334\n",
       "Station                      334\n",
       "Line Name                    334\n",
       "Date                         334\n",
       "Day_of_Week                  334\n",
       "Datetime_cleaned             334\n",
       "Previous_datetime_cleaned    334\n",
       "Net_entries                  334\n",
       "Time_difference              334\n",
       "dtype: int64"
      ]
     },
     "execution_count": 22,
     "metadata": {},
     "output_type": "execute_result"
    }
   ],
   "source": [
    "mta_reg_clean_time_df[mta_reg_clean_time_df['Time_difference'] >= pd.Timedelta('1 days')].count()"
   ]
  },
  {
   "cell_type": "code",
   "execution_count": 34,
   "metadata": {},
   "outputs": [
    {
     "data": {
      "text/plain": [
       "C/A                          1324246\n",
       "Unit                         1324246\n",
       "SCP                          1324246\n",
       "Station                      1324246\n",
       "Line Name                    1324246\n",
       "Date                         1324246\n",
       "Day_of_Week                  1324246\n",
       "Datetime_cleaned             1324246\n",
       "Previous_datetime_cleaned    1324246\n",
       "Net_entries                  1324246\n",
       "Time_difference              1324246\n",
       "Average_hourly_entries       1319623\n",
       "t_id                         1324246\n",
       "dtype: int64"
      ]
     },
     "execution_count": 34,
     "metadata": {},
     "output_type": "execute_result"
    }
   ],
   "source": [
    "mta_reg_clean_time_df[mta_reg_clean_time_df['Time_difference'] < pd.Timedelta('1 days')].count()"
   ]
  },
  {
   "cell_type": "markdown",
   "metadata": {},
   "source": [
    "**Create new columns for average hourly net entries, calcuated from net entries and time difference.**"
   ]
  },
  {
   "cell_type": "code",
   "execution_count": 23,
   "metadata": {},
   "outputs": [],
   "source": [
    "mta_reg_clean_time_df['Average_hourly_entries'] = (mta_reg_clean_time_df['Net_entries']\n",
    "                                                   /(mta_reg_clean_time_df['Time_difference']/pd.Timedelta('1 hours'))\n",
    "                                                  )\n"
   ]
  },
  {
   "cell_type": "code",
   "execution_count": 24,
   "metadata": {},
   "outputs": [
    {
     "data": {
      "text/html": [
       "<div>\n",
       "<style>\n",
       "    .dataframe thead tr:only-child th {\n",
       "        text-align: right;\n",
       "    }\n",
       "\n",
       "    .dataframe thead th {\n",
       "        text-align: left;\n",
       "    }\n",
       "\n",
       "    .dataframe tbody tr th {\n",
       "        vertical-align: top;\n",
       "    }\n",
       "</style>\n",
       "<table border=\"1\" class=\"dataframe\">\n",
       "  <thead>\n",
       "    <tr style=\"text-align: right;\">\n",
       "      <th></th>\n",
       "      <th>C/A</th>\n",
       "      <th>Unit</th>\n",
       "      <th>SCP</th>\n",
       "      <th>Station</th>\n",
       "      <th>Line Name</th>\n",
       "      <th>Date</th>\n",
       "      <th>Day_of_Week</th>\n",
       "      <th>Datetime_cleaned</th>\n",
       "      <th>Previous_datetime_cleaned</th>\n",
       "      <th>Net_entries</th>\n",
       "      <th>Time_difference</th>\n",
       "      <th>Average_hourly_entries</th>\n",
       "    </tr>\n",
       "  </thead>\n",
       "  <tbody>\n",
       "    <tr>\n",
       "      <th>6</th>\n",
       "      <td>A002</td>\n",
       "      <td>R051</td>\n",
       "      <td>02-00-00</td>\n",
       "      <td>59 ST</td>\n",
       "      <td>NQR456W</td>\n",
       "      <td>01/01/2017</td>\n",
       "      <td>6</td>\n",
       "      <td>2017-01-01 03:00:00</td>\n",
       "      <td>NaT</td>\n",
       "      <td>0.0</td>\n",
       "      <td>NaT</td>\n",
       "      <td>NaN</td>\n",
       "    </tr>\n",
       "    <tr>\n",
       "      <th>7</th>\n",
       "      <td>A002</td>\n",
       "      <td>R051</td>\n",
       "      <td>02-00-00</td>\n",
       "      <td>59 ST</td>\n",
       "      <td>NQR456W</td>\n",
       "      <td>01/01/2017</td>\n",
       "      <td>6</td>\n",
       "      <td>2017-01-01 07:00:00</td>\n",
       "      <td>2017-01-01 03:00:00</td>\n",
       "      <td>12.0</td>\n",
       "      <td>04:00:00</td>\n",
       "      <td>3.00</td>\n",
       "    </tr>\n",
       "    <tr>\n",
       "      <th>8</th>\n",
       "      <td>A002</td>\n",
       "      <td>R051</td>\n",
       "      <td>02-00-00</td>\n",
       "      <td>59 ST</td>\n",
       "      <td>NQR456W</td>\n",
       "      <td>01/01/2017</td>\n",
       "      <td>6</td>\n",
       "      <td>2017-01-01 11:00:00</td>\n",
       "      <td>2017-01-01 07:00:00</td>\n",
       "      <td>46.0</td>\n",
       "      <td>04:00:00</td>\n",
       "      <td>11.50</td>\n",
       "    </tr>\n",
       "    <tr>\n",
       "      <th>9</th>\n",
       "      <td>A002</td>\n",
       "      <td>R051</td>\n",
       "      <td>02-00-00</td>\n",
       "      <td>59 ST</td>\n",
       "      <td>NQR456W</td>\n",
       "      <td>01/01/2017</td>\n",
       "      <td>6</td>\n",
       "      <td>2017-01-01 15:00:00</td>\n",
       "      <td>2017-01-01 11:00:00</td>\n",
       "      <td>204.0</td>\n",
       "      <td>04:00:00</td>\n",
       "      <td>51.00</td>\n",
       "    </tr>\n",
       "    <tr>\n",
       "      <th>10</th>\n",
       "      <td>A002</td>\n",
       "      <td>R051</td>\n",
       "      <td>02-00-00</td>\n",
       "      <td>59 ST</td>\n",
       "      <td>NQR456W</td>\n",
       "      <td>01/01/2017</td>\n",
       "      <td>6</td>\n",
       "      <td>2017-01-01 19:00:00</td>\n",
       "      <td>2017-01-01 15:00:00</td>\n",
       "      <td>321.0</td>\n",
       "      <td>04:00:00</td>\n",
       "      <td>80.25</td>\n",
       "    </tr>\n",
       "  </tbody>\n",
       "</table>\n",
       "</div>"
      ],
      "text/plain": [
       "     C/A  Unit       SCP Station Line Name        Date  Day_of_Week  \\\n",
       "6   A002  R051  02-00-00   59 ST   NQR456W  01/01/2017            6   \n",
       "7   A002  R051  02-00-00   59 ST   NQR456W  01/01/2017            6   \n",
       "8   A002  R051  02-00-00   59 ST   NQR456W  01/01/2017            6   \n",
       "9   A002  R051  02-00-00   59 ST   NQR456W  01/01/2017            6   \n",
       "10  A002  R051  02-00-00   59 ST   NQR456W  01/01/2017            6   \n",
       "\n",
       "      Datetime_cleaned Previous_datetime_cleaned  Net_entries Time_difference  \\\n",
       "6  2017-01-01 03:00:00                       NaT          0.0             NaT   \n",
       "7  2017-01-01 07:00:00       2017-01-01 03:00:00         12.0        04:00:00   \n",
       "8  2017-01-01 11:00:00       2017-01-01 07:00:00         46.0        04:00:00   \n",
       "9  2017-01-01 15:00:00       2017-01-01 11:00:00        204.0        04:00:00   \n",
       "10 2017-01-01 19:00:00       2017-01-01 15:00:00        321.0        04:00:00   \n",
       "\n",
       "    Average_hourly_entries  \n",
       "6                      NaN  \n",
       "7                     3.00  \n",
       "8                    11.50  \n",
       "9                    51.00  \n",
       "10                   80.25  "
      ]
     },
     "execution_count": 24,
     "metadata": {},
     "output_type": "execute_result"
    }
   ],
   "source": [
    "mta_reg_clean_time_df.head()"
   ]
  },
  {
   "cell_type": "code",
   "execution_count": 35,
   "metadata": {
    "collapsed": true
   },
   "outputs": [],
   "source": [
    "mta_final_df = mta_reg_clean_time_df[mta_reg_clean_time_df['Time_difference'] < pd.Timedelta('1 days')]"
   ]
  },
  {
   "cell_type": "markdown",
   "metadata": {},
   "source": [
    "## 4. EDA"
   ]
  },
  {
   "cell_type": "markdown",
   "metadata": {},
   "source": [
    "## Total number of turnstile"
   ]
  },
  {
   "cell_type": "code",
   "execution_count": 36,
   "metadata": {},
   "outputs": [
    {
     "data": {
      "text/plain": [
       "4690"
      ]
     },
     "execution_count": 36,
     "metadata": {},
     "output_type": "execute_result"
    }
   ],
   "source": [
    "mta_final_df.groupby(['C/A','Unit', 'SCP', 'Station', 'Line Name'])['Net_entries'].sum().count()"
   ]
  },
  {
   "cell_type": "markdown",
   "metadata": {},
   "source": [
    "## total number of station"
   ]
  },
  {
   "cell_type": "code",
   "execution_count": 37,
   "metadata": {},
   "outputs": [
    {
     "data": {
      "text/plain": [
       "476"
      ]
     },
     "execution_count": 37,
     "metadata": {},
     "output_type": "execute_result"
    }
   ],
   "source": [
    "mta_final_df.groupby(['Station', 'Line Name'])['Net_entries'].sum().count()"
   ]
  },
  {
   "cell_type": "markdown",
   "metadata": {},
   "source": [
    "## Statistic Summary of Cleaned Entries Every x Hours"
   ]
  },
  {
   "cell_type": "code",
   "execution_count": 38,
   "metadata": {},
   "outputs": [
    {
     "data": {
      "text/plain": [
       "count    1.324246e+06\n",
       "mean     1.827015e+02\n",
       "std      2.484624e+03\n",
       "min      0.000000e+00\n",
       "25%      1.100000e+01\n",
       "50%      7.300000e+01\n",
       "75%      2.330000e+02\n",
       "max      9.945160e+05\n",
       "Name: Net_entries, dtype: float64"
      ]
     },
     "execution_count": 38,
     "metadata": {},
     "output_type": "execute_result"
    }
   ],
   "source": [
    "# explore entries distribution\n",
    "mta_final_df['Net_entries'].describe()"
   ]
  },
  {
   "cell_type": "markdown",
   "metadata": {},
   "source": [
    "## distribution of entries in every x hours at a turnstile"
   ]
  },
  {
   "cell_type": "code",
   "execution_count": 28,
   "metadata": {},
   "outputs": [
    {
     "data": {
      "text/plain": [
       "<matplotlib.axes._subplots.AxesSubplot at 0x10c4d7438>"
      ]
     },
     "execution_count": 28,
     "metadata": {},
     "output_type": "execute_result"
    },
    {
     "data": {
      "image/png": "[encoded data removed]",
      "text/plain": [
       "<matplotlib.figure.Figure at 0x13281e0f0>"
      ]
     },
     "metadata": {},
     "output_type": "display_data"
    }
   ],
   "source": [
    "mta_final_df['Net_entries'].hist(range=[0, 1e3])"
   ]
  },
  {
   "cell_type": "markdown",
   "metadata": {},
   "source": [
    "## distribution of daily entries at a turnstile"
   ]
  },
  {
   "cell_type": "code",
   "execution_count": 39,
   "metadata": {
    "scrolled": true
   },
   "outputs": [
    {
     "data": {
      "text/plain": [
       "<matplotlib.axes._subplots.AxesSubplot at 0x10c134c18>"
      ]
     },
     "execution_count": 39,
     "metadata": {},
     "output_type": "execute_result"
    },
    {
     "data": {
      "image/png": "[encoded data removed]",
      "text/plain": [
       "<matplotlib.figure.Figure at 0x12d3ff7b8>"
      ]
     },
     "metadata": {},
     "output_type": "display_data"
    }
   ],
   "source": [
    "#mta_df.groupby(['C/A','Unit', 'SCP', 'Station', 'Date'])['Entries_4_hours_cleaned'].sum()\n",
    "mta_final_df.groupby(['C/A','Unit', 'SCP', 'Station', 'Line Name','Date'])['Net_entries'].sum().hist(range=[0, 1e4])"
   ]
  },
  {
   "cell_type": "markdown",
   "metadata": {},
   "source": [
    "## distribution of daily entries at a station"
   ]
  },
  {
   "cell_type": "code",
   "execution_count": 40,
   "metadata": {},
   "outputs": [
    {
     "data": {
      "text/plain": [
       "<matplotlib.axes._subplots.AxesSubplot at 0x103d13d68>"
      ]
     },
     "execution_count": 40,
     "metadata": {},
     "output_type": "execute_result"
    },
    {
     "data": {
      "image/png": "[encoded data removed]",
      "text/plain": [
       "<matplotlib.figure.Figure at 0x12d3f5048>"
      ]
     },
     "metadata": {},
     "output_type": "display_data"
    }
   ],
   "source": [
    "mta_final_df.groupby(['Station','Line Name', 'Date'])['Net_entries'].sum().hist(range=[0, 1e5])"
   ]
  },
  {
   "cell_type": "markdown",
   "metadata": {},
   "source": [
    "## distribution of sum of entries on a day of the week at a station"
   ]
  },
  {
   "cell_type": "code",
   "execution_count": 41,
   "metadata": {},
   "outputs": [
    {
     "data": {
      "text/plain": [
       "<matplotlib.axes._subplots.AxesSubplot at 0x12d3ef240>"
      ]
     },
     "execution_count": 41,
     "metadata": {},
     "output_type": "execute_result"
    },
    {
     "data": {
      "image/png": "[encoded data removed]",
      "text/plain": [
       "<matplotlib.figure.Figure at 0x103cde080>"
      ]
     },
     "metadata": {},
     "output_type": "display_data"
    }
   ],
   "source": [
    "#mta_df.groupby(['Station', 'day'], as_index=False)['Entries_4_hours_cleaned'].sum()\n",
    "\n",
    "mta_final_df.groupby(['Station', 'Line Name', 'Day_of_Week'])['Net_entries'].sum().hist(range=[0,1e6])"
   ]
  },
  {
   "cell_type": "code",
   "execution_count": null,
   "metadata": {},
   "outputs": [],
   "source": [
    "#mta_reg_df.groupby(['C/A', 'Unit', 'SCP', 'Station', 'Line Name', 'Date'], as_index=False)['counter_joe'].sum()\n",
    "\n",
    "mta_reg_clean_time_df['t_id'] = pd.factorize(mta_reg_clean_time_df['C/A']\n",
    "                                             +mta_reg_clean_time_df['Unit']\n",
    "                                             +mta_reg_clean_time_df['SCP']\n",
    "                                             +mta_reg_clean_time_df['Station']\n",
    "                                             +mta_reg_clean_time_df['Line Name'])[0]\n",
    "mta_reg_clean_time_df"
   ]
  },
  {
   "cell_type": "code",
   "execution_count": 47,
   "metadata": {},
   "outputs": [
    {
     "data": {
      "text/plain": [
       "[('GRD CNTRL-42 ST', '4567S'),\n",
       " ('34 ST-HERALD SQ', 'BDFMNQRW'),\n",
       " ('34 ST-PENN STA', 'ACE'),\n",
       " ('42 ST-PORT AUTH', 'ACENQRS1237W'),\n",
       " ('14 ST-UNION SQ', 'LNQR456W'),\n",
       " ('TIMES SQ-42 ST', '1237ACENQRSW'),\n",
       " ('FLUSHING-MAIN', '7'),\n",
       " ('JAMAICA CENTER', 'EJZ'),\n",
       " ('GROVE STREET', '1'),\n",
       " ('CHRISTOPHER ST', '1'),\n",
       " ('59 ST COLUMBUS', 'ABCD1'),\n",
       " ('FULTON ST', '2345ACJZ'),\n",
       " ('34 ST-PENN STA', '123ACE'),\n",
       " ('47-50 STS ROCK', 'BDFM'),\n",
       " ('CANAL ST', 'JNQRZ6W'),\n",
       " ('JKSN HT-ROOSVLT', 'EFMR7'),\n",
       " ('JOURNAL SQUARE', '1'),\n",
       " ('86 ST', '456'),\n",
       " ('W 4 ST-WASH SQ', 'ABCDEFM'),\n",
       " ('59 ST', '456NQRW')]"
      ]
     },
     "execution_count": 47,
     "metadata": {},
     "output_type": "execute_result"
    }
   ],
   "source": [
    "total_entries = mta_final_df['Net_entries'].sum()\n",
    "total_entries_df = mta_final_df.groupby(['Station', 'Line Name'], as_index=False)['Net_entries'].sum()\n",
    "top20_station = (list(mta_final_df.groupby(['Station', 'Line Name'])['Net_entries']\n",
    "                      .sum().sort_values(ascending=False).head(20).index)\n",
    "                )\n",
    "top20_station\n",
    "#top20_station[[0,1,3,4,5,6,9,10,11,12,13,16,17,18],]\n",
    "#top_mant = top20_station[:7] + [top20_station[9]] + top20_station[11:13] + top20_station[14:16] + top20_station[17:] \n",
    "#top_non_mant = top20_station[7:9] + [top20_station[10]] + [top20_station[13]] + [top20_station[16]]\n",
    "#[x[0] for x in top_mant]\n",
    "#[x[1] for x in top_mant]\n",
    "\n",
    "#top_mant\n",
    "#top_non_mant"
   ]
  },
  {
   "cell_type": "code",
   "execution_count": 52,
   "metadata": {},
   "outputs": [],
   "source": [
    "total_entries_df = total_entries_df.rename(columns={'Net_entries': 'Total_entries'})"
   ]
  },
  {
   "cell_type": "code",
   "execution_count": 60,
   "metadata": {},
   "outputs": [
    {
     "data": {
      "text/plain": [
       "<matplotlib.axes._subplots.AxesSubplot at 0x10d706a20>"
      ]
     },
     "execution_count": 60,
     "metadata": {},
     "output_type": "execute_result"
    },
    {
     "data": {
      "image/png": "[encoded data removed]",
      "text/plain": [
       "<matplotlib.figure.Figure at 0x10ba3cfd0>"
      ]
     },
     "metadata": {},
     "output_type": "display_data"
    }
   ],
   "source": [
    "total_entries_df['Percentage'] = total_entries_df['Total_entries'] / (total_entries_df['Total_entries'].sum()) * 100\n",
    "\n",
    "total_entries_df['Total_entries'].hist()"
   ]
  },
  {
   "cell_type": "code",
   "execution_count": 61,
   "metadata": {},
   "outputs": [
    {
     "data": {
      "text/html": [
       "<div>\n",
       "<style>\n",
       "    .dataframe thead tr:only-child th {\n",
       "        text-align: right;\n",
       "    }\n",
       "\n",
       "    .dataframe thead th {\n",
       "        text-align: left;\n",
       "    }\n",
       "\n",
       "    .dataframe tbody tr th {\n",
       "        vertical-align: top;\n",
       "    }\n",
       "</style>\n",
       "<table border=\"1\" class=\"dataframe\">\n",
       "  <thead>\n",
       "    <tr style=\"text-align: right;\">\n",
       "      <th></th>\n",
       "      <th>Station</th>\n",
       "      <th>Line Name</th>\n",
       "      <th>Total_entries</th>\n",
       "      <th>Percentage</th>\n",
       "    </tr>\n",
       "  </thead>\n",
       "  <tbody>\n",
       "    <tr>\n",
       "      <th>313</th>\n",
       "      <td>GRD CNTRL-42 ST</td>\n",
       "      <td>4567S</td>\n",
       "      <td>5788946.0</td>\n",
       "      <td>2.392703</td>\n",
       "    </tr>\n",
       "    <tr>\n",
       "      <th>90</th>\n",
       "      <td>34 ST-HERALD SQ</td>\n",
       "      <td>BDFMNQRW</td>\n",
       "      <td>5137852.0</td>\n",
       "      <td>2.123591</td>\n",
       "    </tr>\n",
       "    <tr>\n",
       "      <th>94</th>\n",
       "      <td>34 ST-PENN STA</td>\n",
       "      <td>ACE</td>\n",
       "      <td>3693565.0</td>\n",
       "      <td>1.526634</td>\n",
       "    </tr>\n",
       "    <tr>\n",
       "      <th>103</th>\n",
       "      <td>42 ST-PORT AUTH</td>\n",
       "      <td>ACENQRS1237W</td>\n",
       "      <td>3550983.0</td>\n",
       "      <td>1.467702</td>\n",
       "    </tr>\n",
       "    <tr>\n",
       "      <th>28</th>\n",
       "      <td>14 ST-UNION SQ</td>\n",
       "      <td>LNQR456W</td>\n",
       "      <td>3041252.0</td>\n",
       "      <td>1.257019</td>\n",
       "    </tr>\n",
       "    <tr>\n",
       "      <th>447</th>\n",
       "      <td>TIMES SQ-42 ST</td>\n",
       "      <td>1237ACENQRSW</td>\n",
       "      <td>2629966.0</td>\n",
       "      <td>1.087025</td>\n",
       "    </tr>\n",
       "    <tr>\n",
       "      <th>290</th>\n",
       "      <td>FLUSHING-MAIN</td>\n",
       "      <td>7</td>\n",
       "      <td>2390568.0</td>\n",
       "      <td>0.988076</td>\n",
       "    </tr>\n",
       "    <tr>\n",
       "      <th>334</th>\n",
       "      <td>JAMAICA CENTER</td>\n",
       "      <td>EJZ</td>\n",
       "      <td>2345590.0</td>\n",
       "      <td>0.969486</td>\n",
       "    </tr>\n",
       "    <tr>\n",
       "      <th>315</th>\n",
       "      <td>GROVE STREET</td>\n",
       "      <td>1</td>\n",
       "      <td>2345342.0</td>\n",
       "      <td>0.969383</td>\n",
       "    </tr>\n",
       "    <tr>\n",
       "      <th>248</th>\n",
       "      <td>CHRISTOPHER ST</td>\n",
       "      <td>1</td>\n",
       "      <td>2299147.0</td>\n",
       "      <td>0.950290</td>\n",
       "    </tr>\n",
       "    <tr>\n",
       "      <th>126</th>\n",
       "      <td>59 ST COLUMBUS</td>\n",
       "      <td>ABCD1</td>\n",
       "      <td>2262964.0</td>\n",
       "      <td>0.935334</td>\n",
       "    </tr>\n",
       "    <tr>\n",
       "      <th>303</th>\n",
       "      <td>FULTON ST</td>\n",
       "      <td>2345ACJZ</td>\n",
       "      <td>2236567.0</td>\n",
       "      <td>0.924424</td>\n",
       "    </tr>\n",
       "    <tr>\n",
       "      <th>93</th>\n",
       "      <td>34 ST-PENN STA</td>\n",
       "      <td>123ACE</td>\n",
       "      <td>2133504.0</td>\n",
       "      <td>0.881826</td>\n",
       "    </tr>\n",
       "    <tr>\n",
       "      <th>107</th>\n",
       "      <td>47-50 STS ROCK</td>\n",
       "      <td>BDFM</td>\n",
       "      <td>2127979.0</td>\n",
       "      <td>0.879542</td>\n",
       "    </tr>\n",
       "    <tr>\n",
       "      <th>236</th>\n",
       "      <td>CANAL ST</td>\n",
       "      <td>JNQRZ6W</td>\n",
       "      <td>2055774.0</td>\n",
       "      <td>0.849698</td>\n",
       "    </tr>\n",
       "    <tr>\n",
       "      <th>340</th>\n",
       "      <td>JKSN HT-ROOSVLT</td>\n",
       "      <td>EFMR7</td>\n",
       "      <td>2006835.0</td>\n",
       "      <td>0.829471</td>\n",
       "    </tr>\n",
       "    <tr>\n",
       "      <th>341</th>\n",
       "      <td>JOURNAL SQUARE</td>\n",
       "      <td>1</td>\n",
       "      <td>2001694.0</td>\n",
       "      <td>0.827346</td>\n",
       "    </tr>\n",
       "    <tr>\n",
       "      <th>157</th>\n",
       "      <td>86 ST</td>\n",
       "      <td>456</td>\n",
       "      <td>1900997.0</td>\n",
       "      <td>0.785725</td>\n",
       "    </tr>\n",
       "    <tr>\n",
       "      <th>459</th>\n",
       "      <td>W 4 ST-WASH SQ</td>\n",
       "      <td>ABCDEFM</td>\n",
       "      <td>1771167.0</td>\n",
       "      <td>0.732064</td>\n",
       "    </tr>\n",
       "    <tr>\n",
       "      <th>122</th>\n",
       "      <td>59 ST</td>\n",
       "      <td>456NQRW</td>\n",
       "      <td>1763788.0</td>\n",
       "      <td>0.729014</td>\n",
       "    </tr>\n",
       "  </tbody>\n",
       "</table>\n",
       "</div>"
      ],
      "text/plain": [
       "             Station     Line Name  Total_entries  Percentage\n",
       "313  GRD CNTRL-42 ST         4567S      5788946.0    2.392703\n",
       "90   34 ST-HERALD SQ      BDFMNQRW      5137852.0    2.123591\n",
       "94    34 ST-PENN STA           ACE      3693565.0    1.526634\n",
       "103  42 ST-PORT AUTH  ACENQRS1237W      3550983.0    1.467702\n",
       "28    14 ST-UNION SQ      LNQR456W      3041252.0    1.257019\n",
       "447   TIMES SQ-42 ST  1237ACENQRSW      2629966.0    1.087025\n",
       "290    FLUSHING-MAIN             7      2390568.0    0.988076\n",
       "334   JAMAICA CENTER           EJZ      2345590.0    0.969486\n",
       "315     GROVE STREET             1      2345342.0    0.969383\n",
       "248   CHRISTOPHER ST             1      2299147.0    0.950290\n",
       "126   59 ST COLUMBUS         ABCD1      2262964.0    0.935334\n",
       "303        FULTON ST      2345ACJZ      2236567.0    0.924424\n",
       "93    34 ST-PENN STA        123ACE      2133504.0    0.881826\n",
       "107   47-50 STS ROCK          BDFM      2127979.0    0.879542\n",
       "236         CANAL ST       JNQRZ6W      2055774.0    0.849698\n",
       "340  JKSN HT-ROOSVLT         EFMR7      2006835.0    0.829471\n",
       "341   JOURNAL SQUARE             1      2001694.0    0.827346\n",
       "157            86 ST           456      1900997.0    0.785725\n",
       "459   W 4 ST-WASH SQ       ABCDEFM      1771167.0    0.732064\n",
       "122            59 ST       456NQRW      1763788.0    0.729014"
      ]
     },
     "execution_count": 61,
     "metadata": {},
     "output_type": "execute_result"
    }
   ],
   "source": [
    "total_entries_df.sort_values('Total_entries', ascending=False).head(20)"
   ]
  },
  {
   "cell_type": "code",
   "execution_count": null,
   "metadata": {
    "collapsed": true
   },
   "outputs": [],
   "source": []
  }
 ],
 "metadata": {
  "kernelspec": {
   "display_name": "Python 3",
   "language": "python",
   "name": "python3"
  },
  "language_info": {
   "codemirror_mode": {
    "name": "ipython",
    "version": 3
   },
   "file_extension": ".py",
   "mimetype": "text/x-python",
   "name": "python",
   "nbconvert_exporter": "python",
   "pygments_lexer": "ipython3",
   "version": "3.6.3"
  }
 },
 "nbformat": 4,
 "nbformat_minor": 2
}
