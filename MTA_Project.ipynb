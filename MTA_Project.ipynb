{
 "cells": [
  {
   "cell_type": "code",
   "execution_count": 1,
   "metadata": {
    "collapsed": true
   },
   "outputs": [],
   "source": [
    "import pandas as pd\n",
    "import numpy as np\n",
    "import matplotlib.pyplot as plt\n",
    "%matplotlib inline"
   ]
  },
  {
   "cell_type": "code",
   "execution_count": 26,
   "metadata": {
    "collapsed": true
   },
   "outputs": [],
   "source": [
    "rawdf = pd.read_csv('Turnstile_Usage_Data__2017.csv')\n",
    "rawdf['DateTime'] = pd.to_datetime(rawdf['Date'] + ' ' + rawdf['Time'], format = '%m/%d/%Y %H:%M:%S')\n",
    "rawdf['Date'] = pd.to_datetime(rawdf['Date'], format = '%m/%d/%Y')"
   ]
  },
  {
   "cell_type": "code",
   "execution_count": 146,
   "metadata": {
    "collapsed": true
   },
   "outputs": [],
   "source": [
    "df = rawdf[(rawdf['DateTime'] > '2017-01-14 00:00:00') & (rawdf['DateTime'] < '2017-02-21 00:00:00')]\n",
    "#filter df out to include only 1 month prior to V'Day and 1 week after V'D"
   ]
  },
  {
   "cell_type": "code",
   "execution_count": 148,
   "metadata": {},
   "outputs": [
    {
     "data": {
      "text/html": [
       "<div>\n",
       "<table border=\"1\" class=\"dataframe\">\n",
       "  <thead>\n",
       "    <tr style=\"text-align: right;\">\n",
       "      <th></th>\n",
       "      <th>Date</th>\n",
       "      <th>DateTime</th>\n",
       "      <th>Time</th>\n",
       "      <th>Day_of_Week</th>\n",
       "      <th>Week_#</th>\n",
       "      <th>C/A</th>\n",
       "      <th>Unit</th>\n",
       "      <th>SCP</th>\n",
       "      <th>Station</th>\n",
       "      <th>Line Name</th>\n",
       "      <th>Division</th>\n",
       "      <th>Description</th>\n",
       "      <th>Entries</th>\n",
       "      <th>Exits</th>\n",
       "    </tr>\n",
       "  </thead>\n",
       "  <tbody>\n",
       "    <tr>\n",
       "      <th>385274</th>\n",
       "      <td>2017-01-15</td>\n",
       "      <td>2017-01-15 19:00:00</td>\n",
       "      <td>19:00:00</td>\n",
       "      <td>Sunday</td>\n",
       "      <td>2</td>\n",
       "      <td>A013</td>\n",
       "      <td>R081</td>\n",
       "      <td>01-05-00</td>\n",
       "      <td>49 ST</td>\n",
       "      <td>NQRW</td>\n",
       "      <td>BMT</td>\n",
       "      <td>REGULAR</td>\n",
       "      <td>649</td>\n",
       "      <td>0</td>\n",
       "    </tr>\n",
       "    <tr>\n",
       "      <th>385314</th>\n",
       "      <td>2017-01-15</td>\n",
       "      <td>2017-01-15 23:00:00</td>\n",
       "      <td>23:00:00</td>\n",
       "      <td>Sunday</td>\n",
       "      <td>2</td>\n",
       "      <td>A013</td>\n",
       "      <td>R081</td>\n",
       "      <td>01-05-00</td>\n",
       "      <td>49 ST</td>\n",
       "      <td>NQRW</td>\n",
       "      <td>BMT</td>\n",
       "      <td>REGULAR</td>\n",
       "      <td>649</td>\n",
       "      <td>0</td>\n",
       "    </tr>\n",
       "    <tr>\n",
       "      <th>385354</th>\n",
       "      <td>2017-01-16</td>\n",
       "      <td>2017-01-16 03:00:00</td>\n",
       "      <td>03:00:00</td>\n",
       "      <td>Monday</td>\n",
       "      <td>3</td>\n",
       "      <td>A013</td>\n",
       "      <td>R081</td>\n",
       "      <td>01-05-00</td>\n",
       "      <td>49 ST</td>\n",
       "      <td>NQRW</td>\n",
       "      <td>BMT</td>\n",
       "      <td>REGULAR</td>\n",
       "      <td>649</td>\n",
       "      <td>0</td>\n",
       "    </tr>\n",
       "  </tbody>\n",
       "</table>\n",
       "</div>"
      ],
      "text/plain": [
       "             Date            DateTime      Time Day_of_Week  Week_#   C/A  \\\n",
       "385274 2017-01-15 2017-01-15 19:00:00  19:00:00      Sunday       2  A013   \n",
       "385314 2017-01-15 2017-01-15 23:00:00  23:00:00      Sunday       2  A013   \n",
       "385354 2017-01-16 2017-01-16 03:00:00  03:00:00      Monday       3  A013   \n",
       "\n",
       "        Unit       SCP Station Line Name Division Description  Entries  Exits  \n",
       "385274  R081  01-05-00   49 ST      NQRW      BMT     REGULAR      649      0  \n",
       "385314  R081  01-05-00   49 ST      NQRW      BMT     REGULAR      649      0  \n",
       "385354  R081  01-05-00   49 ST      NQRW      BMT     REGULAR      649      0  "
      ]
     },
     "execution_count": 148,
     "metadata": {},
     "output_type": "execute_result"
    }
   ],
   "source": [
    "df['Day_of_Week'] = df['Date'].dt.weekday_name\n",
    "df['Week_#'] = df['Date'].dt.week\n",
    "#reorder cols\n",
    "df.columns = [c.strip() for c in df.columns]\n",
    "df = df[['Date', 'DateTime', 'Time', 'Day_of_Week', \\\n",
    "         'Week_#', 'C/A', 'Unit', 'SCP', 'Station', \\\n",
    "         'Line Name', 'Division', 'Description', 'Entries', 'Exits']]\n",
    "\n",
    "df.head(3)"
   ]
  },
  {
   "cell_type": "code",
   "execution_count": 160,
   "metadata": {
    "collapsed": true
   },
   "outputs": [],
   "source": [
    "#filter by top20 station list\n",
    "#df.Station = [s.strip() for s in df.Station]\n",
    "top20station = ['14 ST', '34 ST-HERALD SQ', 'CHAMBERS ST', '231 ST', 'HIGH ST', \n",
    "                'METROPOLITAN AV', 'CLINTON-WASH AV', '5 AVE', '15 ST-PROSPECT', \n",
    "                'UTICA AV', '34 ST-PENN STA', 'GRD CNTRL-42 ST', '23 ST', '14 ST-UNION SQ', \n",
    "                'TIMES SQ-42 ST', '42 ST-PORT AUTH', '86 ST', 'FULTON ST', '125 ST', '59 ST COLUMBUS'] \n",
    "df = df[df.Station.isin(top20station)]\n",
    "df.to_csv(\"Benson_Valentine.csv\")"
   ]
  },
  {
   "cell_type": "markdown",
   "metadata": {},
   "source": [
    "### df here is the ready to go dataframe to use. \n",
    "\n",
    "---\n",
    "**Ivan work below**"
   ]
  },
  {
   "cell_type": "code",
   "execution_count": 136,
   "metadata": {},
   "outputs": [
    {
     "data": {
      "text/html": [
       "<div>\n",
       "<table border=\"1\" class=\"dataframe\">\n",
       "  <thead>\n",
       "    <tr style=\"text-align: right;\">\n",
       "      <th></th>\n",
       "      <th>Station</th>\n",
       "      <th>Day_of_Week</th>\n",
       "      <th>Entries</th>\n",
       "      <th>Exits</th>\n",
       "    </tr>\n",
       "  </thead>\n",
       "  <tbody>\n",
       "    <tr>\n",
       "      <th>0</th>\n",
       "      <td>125 ST</td>\n",
       "      <td>Friday</td>\n",
       "      <td>165328776574</td>\n",
       "      <td>94693756516</td>\n",
       "    </tr>\n",
       "    <tr>\n",
       "      <th>1</th>\n",
       "      <td>125 ST</td>\n",
       "      <td>Monday</td>\n",
       "      <td>207221324189</td>\n",
       "      <td>118196289092</td>\n",
       "    </tr>\n",
       "    <tr>\n",
       "      <th>2</th>\n",
       "      <td>125 ST</td>\n",
       "      <td>Saturday</td>\n",
       "      <td>201746280831</td>\n",
       "      <td>115722405689</td>\n",
       "    </tr>\n",
       "    <tr>\n",
       "      <th>3</th>\n",
       "      <td>125 ST</td>\n",
       "      <td>Sunday</td>\n",
       "      <td>205507466817</td>\n",
       "      <td>117396992070</td>\n",
       "    </tr>\n",
       "    <tr>\n",
       "      <th>4</th>\n",
       "      <td>125 ST</td>\n",
       "      <td>Thursday</td>\n",
       "      <td>164401637075</td>\n",
       "      <td>93916423937</td>\n",
       "    </tr>\n",
       "    <tr>\n",
       "      <th>5</th>\n",
       "      <td>125 ST</td>\n",
       "      <td>Tuesday</td>\n",
       "      <td>162457230274</td>\n",
       "      <td>92422716316</td>\n",
       "    </tr>\n",
       "    <tr>\n",
       "      <th>6</th>\n",
       "      <td>125 ST</td>\n",
       "      <td>Wednesday</td>\n",
       "      <td>168759773101</td>\n",
       "      <td>97292516635</td>\n",
       "    </tr>\n",
       "    <tr>\n",
       "      <th>7</th>\n",
       "      <td>14 ST</td>\n",
       "      <td>Friday</td>\n",
       "      <td>84421825827</td>\n",
       "      <td>62870567147</td>\n",
       "    </tr>\n",
       "    <tr>\n",
       "      <th>8</th>\n",
       "      <td>14 ST</td>\n",
       "      <td>Monday</td>\n",
       "      <td>104254671540</td>\n",
       "      <td>77232502892</td>\n",
       "    </tr>\n",
       "    <tr>\n",
       "      <th>9</th>\n",
       "      <td>14 ST</td>\n",
       "      <td>Saturday</td>\n",
       "      <td>92731983707</td>\n",
       "      <td>71891842957</td>\n",
       "    </tr>\n",
       "  </tbody>\n",
       "</table>\n",
       "</div>"
      ],
      "text/plain": [
       "  Station Day_of_Week       Entries         Exits\n",
       "0  125 ST      Friday  165328776574   94693756516\n",
       "1  125 ST      Monday  207221324189  118196289092\n",
       "2  125 ST    Saturday  201746280831  115722405689\n",
       "3  125 ST      Sunday  205507466817  117396992070\n",
       "4  125 ST    Thursday  164401637075   93916423937\n",
       "5  125 ST     Tuesday  162457230274   92422716316\n",
       "6  125 ST   Wednesday  168759773101   97292516635\n",
       "7   14 ST      Friday   84421825827   62870567147\n",
       "8   14 ST      Monday  104254671540   77232502892\n",
       "9   14 ST    Saturday   92731983707   71891842957"
      ]
     },
     "execution_count": 136,
     "metadata": {},
     "output_type": "execute_result"
    }
   ],
   "source": [
    "Weekgraphdf = df.groupby(['Station', 'Day_of_Week']).sum().reset_index()\n",
    "Weekgraphdf = Weekgraphdf.drop('Week_#', axis = 1)\n",
    "Weekgraphdf.head(10)"
   ]
  },
  {
   "cell_type": "code",
   "execution_count": null,
   "metadata": {
    "collapsed": true
   },
   "outputs": [],
   "source": [
    "x = np.arange(1, 8)\n",
    "my_xticks = Weekgraphdf.Day_of_Week.tolist()\n",
    "\n",
    "plt.figure(figsize=(15, 5))\n",
    "plt.xlabel('Day_of_Week in 2017', fontsize = 15)\n",
    "plt.ylabel('Total Daily Entries', fontsize = 15)\n",
    "plt.xticks(x, my_xticks, fontsize = 13, rotation = 45)\n",
    "plt.yticks(fontsize = 13)\n",
    "plt.bar(x, Weekgraphdf.Entries);\n",
    "plt.title('Total Daily Entries vs. Day_of_Week for Station 59 ST', fontsize = 15)\n",
    "plt.grid()"
   ]
  },
  {
   "cell_type": "code",
   "execution_count": 134,
   "metadata": {},
   "outputs": [
    {
     "data": {
      "text/plain": [
       "['Friday', 'Monday', 'Saturday', 'Sunday', 'Thursday', 'Tuesday', 'Wednesday']"
      ]
     },
     "execution_count": 134,
     "metadata": {},
     "output_type": "execute_result"
    }
   ],
   "source": [
    "my_xticks = Weekgraphdf.Day_of_Week.tolist()\n",
    "my_xticks[:7]"
   ]
  },
  {
   "cell_type": "markdown",
   "metadata": {},
   "source": [
    "**Ivan Work Above**"
   ]
  },
  {
   "cell_type": "code",
   "execution_count": null,
   "metadata": {
    "collapsed": true
   },
   "outputs": [],
   "source": []
  }
 ],
 "metadata": {
  "anaconda-cloud": {},
  "kernelspec": {
   "display_name": "Python 3",
   "language": "python",
   "name": "python3"
  },
  "language_info": {
   "codemirror_mode": {
    "name": "ipython",
    "version": 3
   },
   "file_extension": ".py",
   "mimetype": "text/x-python",
   "name": "python",
   "nbconvert_exporter": "python",
   "pygments_lexer": "ipython3",
   "version": "3.6.3"
  }
 },
 "nbformat": 4,
 "nbformat_minor": 2
}
