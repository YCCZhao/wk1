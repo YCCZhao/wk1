{
 "cells": [
  {
   "cell_type": "code",
   "execution_count": 1,
   "metadata": {
    "collapsed": true
   },
   "outputs": [],
   "source": [
    "import pandas as pd\n",
    "import matplotlib.pyplot as plt\n",
    "import seaborn as sns\n",
    "import scipy\n",
    "import scipy.stats\n",
    "import numpy as np\n",
    "from sklearn import datasets, linear_model\n",
    "\n",
    "sns.set()"
   ]
  },
  {
   "cell_type": "markdown",
   "metadata": {},
   "source": [
    "# Load average ridership for weekday and weekend\n",
    "\n",
    "## data from [here](http://web.mta.info/nyct/facts/ridership/ridership_sub_weekend.htm) and [here](http://web.mta.info/nyct/facts/ridership/ridership_sub.htm) "
   ]
  },
  {
   "cell_type": "code",
   "execution_count": 2,
   "metadata": {
    "collapsed": true
   },
   "outputs": [],
   "source": [
    "weekday_ridership = pd.read_csv('./average_weekday_subway_ridership.csv')\n",
    "weekend_ridership = pd.read_csv('./average_weekend_subway_ridership.csv')"
   ]
  },
  {
   "cell_type": "code",
   "execution_count": 3,
   "metadata": {
    "collapsed": true
   },
   "outputs": [],
   "source": [
    "weekday_ridership['IsWeekday'] = 1\n",
    "weekend_ridership['IsWeekday'] = 0\n",
    "\n",
    "weekday_ridership.loc[weekday_ridership['Borough'] == 'Manhattan', 'IsManhattan'] = 1\n",
    "weekday_ridership.loc[weekday_ridership['Borough'] != 'Manhattan', 'IsManhattan'] = 0\n",
    "\n",
    "weekend_ridership.loc[weekend_ridership['Borough'] == 'Manhattan', 'IsManhattan'] = 1\n",
    "weekend_ridership.loc[weekend_ridership['Borough'] != 'Manhattan', 'IsManhattan'] = 0\n",
    "\n",
    "daily_average_ridership = pd.concat([weekday_ridership, weekend_ridership], axis=0)"
   ]
  },
  {
   "cell_type": "markdown",
   "metadata": {},
   "source": [
    "# Compare entry distributions of Manhattan stations and non-Manhattan stations"
   ]
  },
  {
   "cell_type": "code",
   "execution_count": 8,
   "metadata": {},
   "outputs": [
    {
     "data": {
      "image/png": "[encoded data removed]",
      "text/plain": [
       "<matplotlib.figure.Figure at 0x1a1ec117f0>"
      ]
     },
     "metadata": {},
     "output_type": "display_data"
    }
   ],
   "source": [
    "plot = sns.FacetGrid(daily_average_ridership, hue='IsManhattan', size=6)\n",
    "plot.map(plt.hist, '2016', alpha=0.5).add_legend()\n",
    "axes = plot.axes.flatten()\n",
    "axes[0].set_title(\"Average Daily Entries/Station Distribution\")\n",
    "#axes[1].set_title(\"Weekday\")\n",
    "axes[0].set_xlabel(\"Average Daily Entries/Station Histogram\")\n",
    "#axes[1].set_xlabel(\"Average Daily Entries/Station Histogram\")\n",
    "plt.show()"
   ]
  },
  {
   "cell_type": "markdown",
   "metadata": {},
   "source": [
    "## since they are not normal distributions, [Mann Whitney U Test](https://en.wikipedia.org/wiki/Mann%E2%80%93Whitney_U_test) is used to reject the null hypothesis instead of T-test."
   ]
  },
  {
   "cell_type": "code",
   "execution_count": 5,
   "metadata": {
    "collapsed": true
   },
   "outputs": [],
   "source": [
    "def mann_whitney_plus_means(dist1, dist2):\n",
    "    \"\"\"\n",
    "    Perform Mann Whitness Test for Non-Normally Distributed data\n",
    "    \"\"\"\n",
    "    \n",
    "    mean1 = np.mean(dist1)\n",
    "    mean2 = np.mean(dist2)\n",
    "    U,p = scipy.stats.mannwhitneyu(dist1, dist2)\n",
    "    return mean1, mean2, U, p"
   ]
  },
  {
   "cell_type": "code",
   "execution_count": 6,
   "metadata": {},
   "outputs": [
    {
     "name": "stdout",
     "output_type": "stream",
     "text": [
      "Average daily entries for Manhattan station on weekeday is 26437.97. \n",
      "\n",
      "Average daily entries for Non-Manhattan station on weekeday is  8341.57. \n",
      "\n",
      "The probability they are from the same distribution is 0.000000 %. \n",
      "\n",
      "Borough of a station affects the ridership outcome.\n"
     ]
    }
   ],
   "source": [
    "weekday_manh = weekday_ridership[weekday_ridership['IsManhattan'] == 1]['2016']\n",
    "weekday_non_manh = weekday_ridership[weekday_ridership['IsManhattan'] == 0]['2016']\n",
    "\n",
    "m1, m2, U, p = mann_whitney_plus_means(weekday_manh, weekday_non_manh)\n",
    "\n",
    "print('Average daily entries for Manhattan station on weekeday is %6.2f.' %m1, '\\n')\n",
    "print('Average daily entries for Non-Manhattan station on weekeday is  %6.2f.' %m2, '\\n')\n",
    "print('The probability they are from the same distribution is %0.6f' %(p*100),'%.', '\\n')\n",
    "if p <= 0.05:\n",
    "    print('Borough of a station affects the ridership outcome.')\n",
    "else:\n",
    "    print('Borough of a station does NOT affects the ridership outcome.')"
   ]
  },
  {
   "cell_type": "code",
   "execution_count": 7,
   "metadata": {},
   "outputs": [
    {
     "name": "stdout",
     "output_type": "stream",
     "text": [
      "Average daily entries for Manhattan station on weekend is 26303.50. \n",
      "\n",
      "Average daily entries for Non-Manhattan station on weekend is  8824.19. \n",
      "\n",
      "The probability they are from the same distribution is 0.000000 %. \n",
      "\n",
      "Borough of a station affects the ridership outcome.\n"
     ]
    }
   ],
   "source": [
    "weekend_manh = weekend_ridership[weekend_ridership['IsManhattan'] == 1]['2016']\n",
    "weekend_non_manh = weekend_ridership[weekend_ridership['IsManhattan'] == 0]['2016']\n",
    "\n",
    "m1, m2, U, p = mann_whitney_plus_means(weekend_manh, weekend_non_manh)\n",
    "\n",
    "print('Average daily entries for Manhattan station on weekend is %6.2f.' %m1, '\\n')\n",
    "print('Average daily entries for Non-Manhattan station on weekend is  %6.2f.' %m2, '\\n')\n",
    "print('The probability they are from the same distribution is %0.6f' %(p*100),'%.', '\\n')\n",
    "if p <= 0.05:\n",
    "    print('Borough of a station affects the ridership outcome.')\n",
    "else:\n",
    "    print('Borough of a station does NOT affects the ridership outcome.')"
   ]
  },
  {
   "cell_type": "code",
   "execution_count": null,
   "metadata": {
    "collapsed": true
   },
   "outputs": [],
   "source": []
  }
 ],
 "metadata": {
  "kernelspec": {
   "display_name": "Python 3",
   "language": "python",
   "name": "python3"
  },
  "language_info": {
   "codemirror_mode": {
    "name": "ipython",
    "version": 3
   },
   "file_extension": ".py",
   "mimetype": "text/x-python",
   "name": "python",
   "nbconvert_exporter": "python",
   "pygments_lexer": "ipython3",
   "version": "3.6.3"
  }
 },
 "nbformat": 4,
 "nbformat_minor": 2
}
